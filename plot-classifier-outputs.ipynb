{
 "cells": [
  {
   "cell_type": "code",
   "execution_count": 183,
   "metadata": {},
   "outputs": [],
   "source": [
    "from physics.hstar import gghzz, c6\n",
    "from physics.simulation import msq\n",
    "from physics.hzz import zpair, angles\n",
    "from nn import models\n",
    "\n",
    "import json\n",
    "import os\n",
    "\n",
    "import numpy as np\n",
    "import matplotlib.pyplot as plt\n",
    "import tensorflow as tf\n",
    "from sklearn.preprocessing import StandardScaler"
   ]
  },
  {
   "cell_type": "code",
   "execution_count": 199,
   "metadata": {},
   "outputs": [],
   "source": [
    "SEED=373485\n",
    "\n",
    "BASE_SIZE=1000\n",
    "\n",
    "JOBS_DIR='jobs/'\n",
    "CONFIG_FILE=JOBS_DIR + 'train-SIG-10x2000-100k/job.config'"
   ]
  },
  {
   "cell_type": "markdown",
   "metadata": {},
   "source": [
    "First, load the job configuration from the specified job.config."
   ]
  },
  {
   "cell_type": "code",
   "execution_count": 185,
   "metadata": {},
   "outputs": [
    {
     "name": "stdout",
     "output_type": "stream",
     "text": [
      "{'sample_dir': '../..', 'output_dir': 'train-SIG-10x2000-100k', 'flags': ['sig'], 'learning_rate': 1e-05, 'batch_size': 32, 'num_events': 100000, 'num_layers': 10, 'num_nodes': 2000.0, 'epochs': 100, 'c6_values': [-20.0, -16.0, -12.0, -8.0, -4.0, 0.0, 4.0, 8.0, 12.0, 16.0, 20.0]}\n"
     ]
    }
   ],
   "source": [
    "with open(CONFIG_FILE, 'r') as config_file:\n",
    "    config, scaler_config  = json.loads(''.join(config_file.readlines()))\n",
    "\n",
    "print(config)"
   ]
  },
  {
   "cell_type": "markdown",
   "metadata": {},
   "source": [
    "This function will determine the components (msq.Component objects) required for loading the correct samples from the used flags in the config."
   ]
  },
  {
   "cell_type": "code",
   "execution_count": 186,
   "metadata": {},
   "outputs": [],
   "source": [
    "def get_components(config):\n",
    "    component_flag = np.array(config['flags'])[np.where(np.array(config['flags']) in ['sig', 'int', 'sig-vs-sbi', 'int-vs-sbi', 'bkg-vs-sbi'])]\n",
    "    component_flag = component_flag[0] if component_flag.shape[0] != 0 else 'sbi'\n",
    "    component_1, component_2 = component_flag.split('-')[0], component_flag.split('-')[-1]\n",
    "    \n",
    "    comp_dict = {'sig': msq.Component.SIG,\n",
    "                 'int': msq.Component.INT,\n",
    "                 'bkg': msq.Component.BKG,\n",
    "                 'sbi': msq.Component.SBI}\n",
    "\n",
    "    return (comp_dict[component_1], comp_dict[component_2])"
   ]
  },
  {
   "cell_type": "markdown",
   "metadata": {},
   "source": [
    "Loading 12k events from training data (the first 100k in the .csv were used for training) 12k and 12k events from validation data."
   ]
  },
  {
   "cell_type": "code",
   "execution_count": 187,
   "metadata": {},
   "outputs": [],
   "source": [
    "sample_train = gghzz.Process(msq.Component.SIG, (0.1, os.path.join(JOBS_DIR, config['sample_dir'], 'ggZZ2e2m_sig.csv'), BASE_SIZE*1.2))\n",
    "\n",
    "sample_val = gghzz.Process(msq.Component.SIG, (0.1, os.path.join(JOBS_DIR, config['sample_dir'], 'ggZZ2e2m_sig.csv'), config['num_events']+BASE_SIZE*1.2))\n",
    "sample_val.events = sample_val.events[config['num_events']:]"
   ]
  },
  {
   "cell_type": "markdown",
   "metadata": {},
   "source": [
    "Calculate kinematics and filter the samples based on Z mass cuts. Additionally both samples will be cut to 10k events to account for size differences after filtering."
   ]
  },
  {
   "cell_type": "code",
   "execution_count": 188,
   "metadata": {},
   "outputs": [],
   "source": [
    "z_chooser = zpair.ZPairChooser(bounds1=(70,115), bounds2=(70,115), algorithm='leastsquare')\n",
    "\n",
    "kinematics_train = angles.calculate(*sample_train.events.filter(z_chooser))\n",
    "kinematics_val = angles.calculate(*sample_val.events.filter(z_chooser))\n",
    "\n",
    "kinematics_train = kinematics_train[:BASE_SIZE]\n",
    "sample_train.events = sample_train.events[:BASE_SIZE]\n",
    "kinematics_val = kinematics_val[:BASE_SIZE]\n",
    "sample_val.events = sample_val.events[:BASE_SIZE]"
   ]
  },
  {
   "cell_type": "markdown",
   "metadata": {},
   "source": [
    "Set the c6 values used in this analysis and load the required msq.Components from config."
   ]
  },
  {
   "cell_type": "code",
   "execution_count": 189,
   "metadata": {},
   "outputs": [],
   "source": [
    "c6_values = [-20,-10,0,10,20]\n",
    "component_1, component_2 = get_components(config)"
   ]
  },
  {
   "cell_type": "markdown",
   "metadata": {},
   "source": [
    "Build the datasets for validation and training. This will build a tf.Tensor with the first 8 columns being kinematic variables of the events, the 9th column containing a c6 value and the 10th and 11th columns containing signal and background probabilities respectively."
   ]
  },
  {
   "cell_type": "code",
   "execution_count": 190,
   "metadata": {},
   "outputs": [],
   "source": [
    "def build_dataset(sample, kin_variables, components, c6_values):\n",
    "    c6_mod = c6.Modifier(baseline = components[0], c6_values = [-5,-1,0,1,5])\n",
    "    _, c6_probabilities = c6_mod.modify(sample=sample, c6=c6_values)\n",
    "\n",
    "    signal_weights = c6_probabilities\n",
    "    background_weights = tf.convert_to_tensor(sample[components[1]].probabilities)[:,tf.newaxis]\n",
    "\n",
    "    data = []\n",
    "\n",
    "    for i in range(len(c6_values)):\n",
    "        param = c6_values[i]\n",
    "\n",
    "        sig_weights = tf.cast(signal_weights.T[i][:,tf.newaxis], tf.float32)\n",
    "        bkg_weights = tf.cast(background_weights, tf.float32)\n",
    "\n",
    "        if len(c6_values)==1:\n",
    "            data.append(tf.concat([kin_variables, sig_weights, bkg_weights], axis=1))\n",
    "        else:\n",
    "            data.append(tf.concat([kin_variables, tf.ones(kin_variables.shape[0])[:,tf.newaxis]*param, sig_weights, bkg_weights], axis=1))\n",
    "\n",
    "    return tf.reshape(tf.convert_to_tensor(data), (tf.convert_to_tensor(data).shape[0]*tf.convert_to_tensor(data).shape[1], tf.convert_to_tensor(data).shape[2])) "
   ]
  },
  {
   "cell_type": "code",
   "execution_count": 191,
   "metadata": {},
   "outputs": [],
   "source": [
    "data_train = build_dataset(sample_train, kinematics_train, (component_1, component_2), c6_values)\n",
    "data_val = build_dataset(sample_val, kinematics_val, (component_1, component_2), c6_values)"
   ]
  },
  {
   "cell_type": "markdown",
   "metadata": {},
   "source": [
    "Next scale the generated datasets according to the standard scaling applied to the original training data. Here the 8 kinematic inputs plus the c6 values will be scaled."
   ]
  },
  {
   "cell_type": "code",
   "execution_count": 192,
   "metadata": {},
   "outputs": [],
   "source": [
    "scaler = StandardScaler()\n",
    "\n",
    "scaler.mean_ = scaler_config['scaler.mean_']\n",
    "scaler.var_ = scaler_config['scaler.var_']\n",
    "scaler.scale_ = scaler_config['scaler.scale_']\n",
    "\n",
    "data_train = tf.concat([scaler.transform(data_train[:,:-2]), data_train[:,-2:]], axis=1)\n",
    "data_val = tf.concat([scaler.transform(data_val[:,:-2]), data_val[:,-2:]], axis=1)"
   ]
  },
  {
   "cell_type": "markdown",
   "metadata": {},
   "source": [
    "Load the trained model from its best performing checkpoint."
   ]
  },
  {
   "cell_type": "code",
   "execution_count": 193,
   "metadata": {},
   "outputs": [],
   "source": [
    "model = tf.keras.models.load_model(os.path.join(JOBS_DIR, config['output_dir'], 'checkpoint.model.tf'), custom_objects={'C6_4l_clf': models.C6_4l_clf, 'swish_activation': models.swish_activation})"
   ]
  },
  {
   "cell_type": "markdown",
   "metadata": {},
   "source": [
    "Let the model do predictions based on training data as input."
   ]
  },
  {
   "cell_type": "code",
   "execution_count": 194,
   "metadata": {},
   "outputs": [
    {
     "name": "stdout",
     "output_type": "stream",
     "text": [
      "16/16 [==============================] - 6s 340ms/step\n"
     ]
    }
   ],
   "source": [
    "predictions_train = model.predict(data_train[:,:-2])"
   ]
  },
  {
   "cell_type": "code",
   "execution_count": 195,
   "metadata": {},
   "outputs": [
    {
     "name": "stdout",
     "output_type": "stream",
     "text": [
      "16/16 [==============================] - 4s 280ms/step\n"
     ]
    }
   ],
   "source": [
    "predictions_val = model.predict(data_val[:,:-2])"
   ]
  },
  {
   "cell_type": "markdown",
   "metadata": {},
   "source": [
    "Split up the predictions by c6 value to be able to plot them individually."
   ]
  },
  {
   "cell_type": "code",
   "execution_count": 196,
   "metadata": {},
   "outputs": [],
   "source": [
    "pred_train_per_c6 = {c6_values[i]: predictions_train[i*BASE_SIZE:(i+1)*BASE_SIZE] for i in range(len(c6_values))}\n",
    "data_train_per_c6 = {c6_values[i]: data_train[i*BASE_SIZE:(i+1)*BASE_SIZE] for i in range(len(c6_values))}\n",
    "\n",
    "pred_val_per_c6 = {c6_values[i]: predictions_val[i*BASE_SIZE:(i+1)*BASE_SIZE] for i in range(len(c6_values))}\n",
    "data_val_per_c6 = {c6_values[i]: data_val[i*BASE_SIZE:(i+1)*BASE_SIZE] for i in range(len(c6_values))}"
   ]
  },
  {
   "cell_type": "code",
   "execution_count": 197,
   "metadata": {},
   "outputs": [],
   "source": [
    "def generate_histograms(c6_values, data_train_per_c6, predictions_train_per_c6, data_val_per_c6, pred_val_per_c6, num_bins):\n",
    "    histograms = []\n",
    "    for c6 in c6_values:\n",
    "        r = data_train_per_c6[c6][:,-2][:,tf.newaxis]/data_train_per_c6[c6][:,-1][:,tf.newaxis]\n",
    "\n",
    "        hist_train, bins = np.histogram(predictions_train_per_c6[c6], bins=num_bins, range=(0,1), weights=data_train_per_c6[c6][:,-2][:,tf.newaxis])\n",
    "        hist_val, bins = np.histogram(pred_val_per_c6[c6], bins=num_bins, range=(0,1), weights=data_val_per_c6[c6][:,-2][:,tf.newaxis])\n",
    "        hist_true, bins = np.histogram(r/(1+r), bins=num_bins, range=(0,1), weights=data_train_per_c6[c6][:,-2][:,tf.newaxis])\n",
    "\n",
    "        histograms.append((hist_train, hist_val, hist_true))\n",
    "    \n",
    "    return (histograms,bins)\n",
    "    "
   ]
  },
  {
   "cell_type": "code",
   "execution_count": 200,
   "metadata": {},
   "outputs": [],
   "source": [
    "def plot_histograms(c6_values, histograms, bins, colors, xlim=(0.2,0.8)):\n",
    "    fig = plt.figure(figsize=(7,6))\n",
    "\n",
    "    for i in range(len(c6_values)):\n",
    "        plt.step(bins[:-1], histograms[i][0], color=colors[i], linestyle='--', label=f'truth (c6={c6_values[i]})', alpha=0.6)\n",
    "        plt.step(bins[:-1], histograms[i][1], color=colors[i], label=f'training data (c6={c6_values[i]})', alpha=0.6)\n",
    "        plt.scatter(bins[:-1]-1/2/len(bins[:-1]), histograms[i][2], s=20, color=colors[i], label=f'validation data (c6={c6_values[i]})', alpha=0.6)\n",
    "\n",
    "    plt.xlabel('NN output []')\n",
    "    plt.ylabel('Percentage of predictions []')\n",
    "    plt.legend()\n",
    "    plt.xlim(xlim[0],xlim[1])\n",
    "\n",
    "    plt.show()"
   ]
  },
  {
   "cell_type": "code",
   "execution_count": 206,
   "metadata": {},
   "outputs": [
    {
     "data": {
      "image/png": "[encoded data removed]",
      "text/plain": [
       "<Figure size 700x600 with 1 Axes>"
      ]
     },
     "metadata": {},
     "output_type": "display_data"
    }
   ],
   "source": [
    "BINS = 80\n",
    "\n",
    "c6_vals = [-10,10]\n",
    "colors = ['royalblue', 'limegreen']\n",
    "\n",
    "histograms, bins = generate_histograms(c6_vals, data_train_per_c6, pred_train_per_c6, data_val_per_c6, pred_val_per_c6, BINS)\n",
    "\n",
    "plot_histograms(c6_vals, histograms, bins, colors)"
   ]
  }
 ],
 "metadata": {
  "kernelspec": {
   "display_name": "venv_tf",
   "language": "python",
   "name": "python3"
  },
  "language_info": {
   "codemirror_mode": {
    "name": "ipython",
    "version": 3
   },
   "file_extension": ".py",
   "mimetype": "text/x-python",
   "name": "python",
   "nbconvert_exporter": "python",
   "pygments_lexer": "ipython3",
   "version": "3.10.9"
  }
 },
 "nbformat": 4,
 "nbformat_minor": 2
}
