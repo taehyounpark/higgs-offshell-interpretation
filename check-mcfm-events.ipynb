{
 "cells": [
  {
   "cell_type": "markdown",
   "metadata": {},
   "source": [
    "# Validation: compare $m_{4\\ell}$ distribution from MCFM `nplotter.f` vs `events.csv`\n",
    "\n",
    "The MCFM only supports an internal mechanism to produce distributions of observable(s):\n",
    "\n",
    "1. Compute a (user-defined) observable as a function of the parton kinematics & process matrix element(s).\n",
    "2. This quantity is filled for each event that populates the MC phase space integration with a weight that takes into account the matrix element squared and the sampling frequency of the phase space region.\n",
    "\n",
    "When this is being performed, a custom routine was written by me to instead write out the parton kinematics and weight value to a `.csv` file.\n",
    "This naiive implementation only works in single-threaded mode, of course, as otherwise the lines become mangled from multiple threads.\n",
    "\n",
    "Anyway, we should expect that this, in principle, allows us to not only reproduce all the physics results already available by MCFM, but also use the per-event record as a \"partonic process sample\" with which to do unbinned studies (e.g. SBI) with."
   ]
  },
  {
   "cell_type": "code",
   "execution_count": 1,
   "metadata": {},
   "outputs": [],
   "source": [
    "import pandas as pd\n",
    "import numpy as np\n",
    "import matplotlib.pyplot as plt"
   ]
  },
  {
   "cell_type": "code",
   "execution_count": 6,
   "metadata": {},
   "outputs": [
    {
     "name": "stdout",
     "output_type": "stream",
     "text": [
      "1.5546027\n",
      "[  5.  15.  25.  35.  45.  55.  65.  75.  85.  95. 105. 115. 125. 135.\n",
      " 145. 155. 165. 175. 185. 195. 205. 215. 225. 235. 245. 255. 265. 275.\n",
      " 285. 295. 305. 315. 325. 335. 345. 355. 365. 375. 385. 395. 405. 415.\n",
      " 425. 435. 445. 455. 465. 475. 485. 495.]\n",
      "[0.         0.         0.         0.         0.         0.\n",
      " 0.         0.         0.         0.         0.         0.\n",
      " 0.         0.         0.         0.         0.         0.\n",
      " 0.10377775 0.16335588 0.16016583 0.14624482 0.1296764  0.11282885\n",
      " 0.09715796 0.083334   0.07110541 0.06100327 0.05191357 0.04457066\n",
      " 0.03820074 0.03297307 0.0279354  0.02449124 0.02077455 0.01831825\n",
      " 0.01595633 0.01450756 0.01272856 0.01157471 0.01011655 0.00928262\n",
      " 0.00836868 0.0075246  0.00677649 0.00632432 0.00540512 0.00494712\n",
      " 0.0044721  0.0042029 ]\n"
     ]
    },
    {
     "name": "stderr",
     "output_type": "stream",
     "text": [
      "/tmp/ipykernel_26489/1578988591.py:43: RuntimeWarning: invalid value encountered in divide\n",
      "  ratio = events_vals / nplotter_vals\n",
      "/tmp/ipykernel_26489/1578988591.py:44: RuntimeWarning: invalid value encountered in divide\n",
      "  ax2.fill_between(nplotter_xcenters, (nplotter_vals-nplotter_errs)/nplotter_vals, (nplotter_vals+nplotter_errs)/nplotter_vals, step='mid', color='black', alpha=0.25)\n",
      "/tmp/ipykernel_26489/1578988591.py:50: UserWarning: No artists with labels found to put in legend.  Note that artists whose label start with an underscore are ignored when legend() is called with no argument.\n",
      "  plt.legend()\n"
     ]
    },
    {
     "data": {
      "image/png": "[encoded data removed]",
      "text/plain": [
       "<Figure size 640x480 with 2 Axes>"
      ]
     },
     "metadata": {},
     "output_type": "display_data"
    }
   ],
   "source": [
    "nplotter_txt_filepath = '/raven/u/taepa/mcfm/events/ggZZ2e2m_all/ggZZ4l_lo_NNPDF31_nnlo_as_0118_1.00_1.00_125_ggZZ2e2m_all_m3456.txt'\n",
    "events_csv_filepath = '/raven/u/taepa/mcfm/events/ggZZ2e2m_all/events.csv'\n",
    "\n",
    "# Create subplots\n",
    "fig, (ax1, ax2) = plt.subplots(2, 1, sharex=True, gridspec_kw={'height_ratios': [3, 1]})\n",
    "plt.xlim(180,500)\n",
    "\n",
    "# nplotter\n",
    "nplotter_data = pd.read_csv(nplotter_txt_filepath, sep='\\\\s+', comment='#', names=['xmin', 'xmax', 'cross', 'numerror'])\n",
    "nplotter_xmin = nplotter_data['xmin'].values\n",
    "nplotter_xmax = nplotter_data['xmax'].values\n",
    "nplotter_vals = nplotter_data['cross'].values\n",
    "nplotter_errs = nplotter_data['numerror'].values\n",
    "nplotter_xcenters = (nplotter_xmin + nplotter_xmax) / 2\n",
    "nplotter_xbins = np.append(nplotter_xmin,nplotter_xmax[-1])\n",
    "ax1.fill_between(nplotter_xcenters, nplotter_vals-nplotter_errs, nplotter_vals+nplotter_errs, step='mid', color='black', alpha=0.25)\n",
    "ax1.step(nplotter_xcenters, nplotter_vals, where='mid', label='nplotter')\n",
    "\n",
    "mcfm_xsec = 1.5546027\n",
    "print(mcfm_xsec)\n",
    "\n",
    "# events\n",
    "from physics.hstar import gghzz\n",
    "from physics.simulation import msq\n",
    "sample = gghzz.Process(\n",
    "  (mcfm_xsec,events_csv_filepath)\n",
    ")\n",
    "events = sample[msq.Component.SBI]\n",
    "kinematics = events.kinematics\n",
    "weights = events.weights\n",
    "def sum_over_4l(kinematics, quantity):\n",
    "    return np.sum(np.array([kinematics[f'p{lepton}_{quantity}'].to_numpy() for lepton in range(3,7)]), axis=0)\n",
    "kinematics['m4l'] = np.sqrt(sum_over_4l(kinematics, 'E')**2 - sum_over_4l(kinematics,'px')**2- sum_over_4l(kinematics,'py')**2 - sum_over_4l(kinematics,'pz')**2)\n",
    "\n",
    "# plot as markers\n",
    "events_vals, _ = np.histogram(kinematics['m4l'].to_numpy(), bins=nplotter_xbins, weights=weights)\n",
    "ax1.scatter(nplotter_xcenters, events_vals, label='events', color='red', marker='o')\n",
    "\n",
    "print(nplotter_xcenters)\n",
    "print(events_vals)\n",
    "\n",
    "# ratio\n",
    "ratio = events_vals / nplotter_vals\n",
    "ax2.fill_between(nplotter_xcenters, (nplotter_vals-nplotter_errs)/nplotter_vals, (nplotter_vals+nplotter_errs)/nplotter_vals, step='mid', color='black', alpha=0.25)\n",
    "ax2.axhline(1, color='gray', linestyle='--')\n",
    "ax2.step(nplotter_xcenters, ratio, where='mid', color='red')\n",
    "ax2.set_ylabel('ratio')\n",
    "ax2.set_xlabel('m4l')\n",
    "\n",
    "plt.legend()\n",
    "plt.show()"
   ]
  },
  {
   "cell_type": "markdown",
   "metadata": {},
   "source": [
    "Okay, so the agreement is close, but not perfect (when it was expected to be). Certainly well within MCFM uncertainty (except for first bin?). We should follow up with MCFM author why a discrepancy is occuring between MCFM-internal vs. third-party histogramming code."
   ]
  },
  {
   "cell_type": "code",
   "execution_count": 3,
   "metadata": {},
   "outputs": [
    {
     "name": "stderr",
     "output_type": "stream",
     "text": [
      "<>:21: SyntaxWarning: invalid escape sequence '\\m'\n",
      "<>:22: SyntaxWarning: invalid escape sequence '\\m'\n",
      "<>:23: SyntaxWarning: invalid escape sequence '\\m'\n",
      "<>:24: SyntaxWarning: invalid escape sequence '\\m'\n",
      "<>:25: SyntaxWarning: invalid escape sequence '\\m'\n",
      "<>:34: SyntaxWarning: invalid escape sequence '\\m'\n",
      "<>:35: SyntaxWarning: invalid escape sequence '\\e'\n",
      "<>:21: SyntaxWarning: invalid escape sequence '\\m'\n",
      "<>:22: SyntaxWarning: invalid escape sequence '\\m'\n",
      "<>:23: SyntaxWarning: invalid escape sequence '\\m'\n",
      "<>:24: SyntaxWarning: invalid escape sequence '\\m'\n",
      "<>:25: SyntaxWarning: invalid escape sequence '\\m'\n",
      "<>:34: SyntaxWarning: invalid escape sequence '\\m'\n",
      "<>:35: SyntaxWarning: invalid escape sequence '\\e'\n",
      "/tmp/ipykernel_26489/1232408866.py:21: SyntaxWarning: invalid escape sequence '\\m'\n",
      "  ax1.stairs(tot_entries, m4l_bins, color='black', label='$|\\mathcal{M}_{ZZ} + \\mathcal{M}_h|^2$')\n",
      "/tmp/ipykernel_26489/1232408866.py:22: SyntaxWarning: invalid escape sequence '\\m'\n",
      "  ax1.stairs(bkg_entries, m4l_bins, color='blue', linestyle='dashed', label='$|\\mathcal{M}_{ZZ}|^2$')\n",
      "/tmp/ipykernel_26489/1232408866.py:23: SyntaxWarning: invalid escape sequence '\\m'\n",
      "  ax1.stairs(hpi_entries-int_entries, m4l_bins, color='green', linestyle='dashed', label='$|\\mathcal{M}_h|^2$')\n",
      "/tmp/ipykernel_26489/1232408866.py:24: SyntaxWarning: invalid escape sequence '\\m'\n",
      "  ax1.stairs(int_entries, m4l_bins, color='orange', linestyle='dashed', label='$2\\mathrm{Re}(\\mathcal{M}_{ZZ}^{\\dag}\\mathcal{M}_{h})$')\n",
      "/tmp/ipykernel_26489/1232408866.py:25: SyntaxWarning: invalid escape sequence '\\m'\n",
      "  ax1.stairs(bkg_entries+hpi_entries, m4l_bins, color='red', linestyle='solid', label='$|\\mathcal{M}_{ZZ}|^2 + |\\mathcal{M}_h|^2 + 2\\mathrm{Re}(\\mathcal{M}_{ZZ}^{\\dag}\\mathcal{M}_{h})$')\n",
      "/tmp/ipykernel_26489/1232408866.py:34: SyntaxWarning: invalid escape sequence '\\m'\n",
      "  ax2.set_ylabel('$\\\\frac{|\\mathcal{M}_{ZZ}|^2 + |\\mathcal{M}_h|^2 + 2\\mathrm{Re}(\\mathcal{M}_{ZZ}^{\\dag}\\mathcal{M}_{h})}{|\\mathcal{M}_{ZZ} + \\mathcal{M}_h|^2}$')\n",
      "/tmp/ipykernel_26489/1232408866.py:35: SyntaxWarning: invalid escape sequence '\\e'\n",
      "  ax2.set_xlabel(\"$m_{4\\ell}$ [GeV]\")\n",
      "/tmp/ipykernel_26489/1232408866.py:21: SyntaxWarning: invalid escape sequence '\\m'\n",
      "  ax1.stairs(tot_entries, m4l_bins, color='black', label='$|\\mathcal{M}_{ZZ} + \\mathcal{M}_h|^2$')\n",
      "/tmp/ipykernel_26489/1232408866.py:22: SyntaxWarning: invalid escape sequence '\\m'\n",
      "  ax1.stairs(bkg_entries, m4l_bins, color='blue', linestyle='dashed', label='$|\\mathcal{M}_{ZZ}|^2$')\n",
      "/tmp/ipykernel_26489/1232408866.py:23: SyntaxWarning: invalid escape sequence '\\m'\n",
      "  ax1.stairs(hpi_entries-int_entries, m4l_bins, color='green', linestyle='dashed', label='$|\\mathcal{M}_h|^2$')\n",
      "/tmp/ipykernel_26489/1232408866.py:24: SyntaxWarning: invalid escape sequence '\\m'\n",
      "  ax1.stairs(int_entries, m4l_bins, color='orange', linestyle='dashed', label='$2\\mathrm{Re}(\\mathcal{M}_{ZZ}^{\\dag}\\mathcal{M}_{h})$')\n",
      "/tmp/ipykernel_26489/1232408866.py:25: SyntaxWarning: invalid escape sequence '\\m'\n",
      "  ax1.stairs(bkg_entries+hpi_entries, m4l_bins, color='red', linestyle='solid', label='$|\\mathcal{M}_{ZZ}|^2 + |\\mathcal{M}_h|^2 + 2\\mathrm{Re}(\\mathcal{M}_{ZZ}^{\\dag}\\mathcal{M}_{h})$')\n",
      "/tmp/ipykernel_26489/1232408866.py:34: SyntaxWarning: invalid escape sequence '\\m'\n",
      "  ax2.set_ylabel('$\\\\frac{|\\mathcal{M}_{ZZ}|^2 + |\\mathcal{M}_h|^2 + 2\\mathrm{Re}(\\mathcal{M}_{ZZ}^{\\dag}\\mathcal{M}_{h})}{|\\mathcal{M}_{ZZ} + \\mathcal{M}_h|^2}$')\n",
      "/tmp/ipykernel_26489/1232408866.py:35: SyntaxWarning: invalid escape sequence '\\e'\n",
      "  ax2.set_xlabel(\"$m_{4\\ell}$ [GeV]\")\n"
     ]
    },
    {
     "ename": "NameError",
     "evalue": "name 'samples' is not defined",
     "output_type": "error",
     "traceback": [
      "\u001b[0;31m---------------------------------------------------------------------------\u001b[0m",
      "\u001b[0;31mNameError\u001b[0m                                 Traceback (most recent call last)",
      "Cell \u001b[0;32mIn[3], line 1\u001b[0m\n\u001b[0;32m----> 1\u001b[0m \u001b[38;5;28;01mfor\u001b[39;00m proc, events \u001b[38;5;129;01min\u001b[39;00m \u001b[43msamples\u001b[49m\u001b[38;5;241m.\u001b[39mitems():\n\u001b[1;32m      2\u001b[0m   events[\u001b[38;5;124m'\u001b[39m\u001b[38;5;124m4l_E\u001b[39m\u001b[38;5;124m'\u001b[39m] \u001b[38;5;241m=\u001b[39m np\u001b[38;5;241m.\u001b[39msum([events[\u001b[38;5;124mf\u001b[39m\u001b[38;5;124m'\u001b[39m\u001b[38;5;124mp\u001b[39m\u001b[38;5;132;01m{\u001b[39;00mi\u001b[38;5;132;01m}\u001b[39;00m\u001b[38;5;124m_E\u001b[39m\u001b[38;5;124m'\u001b[39m] \u001b[38;5;28;01mfor\u001b[39;00m i \u001b[38;5;129;01min\u001b[39;00m \u001b[38;5;28mrange\u001b[39m(\u001b[38;5;241m3\u001b[39m,\u001b[38;5;241m7\u001b[39m)], axis\u001b[38;5;241m=\u001b[39m\u001b[38;5;241m0\u001b[39m)\n\u001b[1;32m      3\u001b[0m   events[\u001b[38;5;124m'\u001b[39m\u001b[38;5;124m4l_px\u001b[39m\u001b[38;5;124m'\u001b[39m] \u001b[38;5;241m=\u001b[39m np\u001b[38;5;241m.\u001b[39msum([events[\u001b[38;5;124mf\u001b[39m\u001b[38;5;124m'\u001b[39m\u001b[38;5;124mp\u001b[39m\u001b[38;5;132;01m{\u001b[39;00mi\u001b[38;5;132;01m}\u001b[39;00m\u001b[38;5;124m_px\u001b[39m\u001b[38;5;124m'\u001b[39m] \u001b[38;5;28;01mfor\u001b[39;00m i \u001b[38;5;129;01min\u001b[39;00m \u001b[38;5;28mrange\u001b[39m(\u001b[38;5;241m3\u001b[39m,\u001b[38;5;241m7\u001b[39m)], axis\u001b[38;5;241m=\u001b[39m\u001b[38;5;241m0\u001b[39m)\n",
      "\u001b[0;31mNameError\u001b[0m: name 'samples' is not defined"
     ]
    }
   ],
   "source": [
    "for proc, events in samples.items():\n",
    "  events['4l_E'] = np.sum([events[f'p{i}_E'] for i in range(3,7)], axis=0)\n",
    "  events['4l_px'] = np.sum([events[f'p{i}_px'] for i in range(3,7)], axis=0)\n",
    "  events['4l_py'] = np.sum([events[f'p{i}_py'] for i in range(3,7)], axis=0)\n",
    "  events['4l_pz'] = np.sum([events[f'p{i}_pz'] for i in range(3,7)], axis=0)\n",
    "  events['4l_m'] = np.sqrt(events['4l_E']**2 - events['4l_px']**2 - events['4l_py']**2 - events['4l_pz']**2)\n",
    "\n",
    "events_tot = samples['ggZZ_all']\n",
    "events_bkg = samples['ggZZ_box']\n",
    "events_hpi = samples['gghZZ_hpi']\n",
    "events_int = samples['gghZZ_int']\n",
    "\n",
    "m4l_bins = np.linspace(180,1000,120)\n",
    "tot_entries, _ = np.histogram(events_tot['4l_m'], bins=m4l_bins, weights=events_tot['wt_norm'])\n",
    "bkg_entries, _ = np.histogram(events_bkg['4l_m'], bins=m4l_bins, weights=events_bkg['wt_norm'])\n",
    "hpi_entries, _ = np.histogram(events_hpi['4l_m'], bins=m4l_bins, weights=events_hpi['wt_norm'])\n",
    "int_entries, _ = np.histogram(events_int['4l_m'], bins=m4l_bins, weights=events_int['wt_norm'])\n",
    "\n",
    "fig, (ax1, ax2) = plt.subplots(2,1, figsize=(10,8), sharex=True)\n",
    "\n",
    "ax1.stairs(tot_entries, m4l_bins, color='black', label='$|\\mathcal{M}_{ZZ} + \\mathcal{M}_h|^2$')\n",
    "ax1.stairs(bkg_entries, m4l_bins, color='blue', linestyle='dashed', label='$|\\mathcal{M}_{ZZ}|^2$')\n",
    "ax1.stairs(hpi_entries-int_entries, m4l_bins, color='green', linestyle='dashed', label='$|\\mathcal{M}_h|^2$')\n",
    "ax1.stairs(int_entries, m4l_bins, color='orange', linestyle='dashed', label='$2\\mathrm{Re}(\\mathcal{M}_{ZZ}^{\\dag}\\mathcal{M}_{h})$')\n",
    "ax1.stairs(bkg_entries+hpi_entries, m4l_bins, color='red', linestyle='solid', label='$|\\mathcal{M}_{ZZ}|^2 + |\\mathcal{M}_h|^2 + 2\\mathrm{Re}(\\mathcal{M}_{ZZ}^{\\dag}\\mathcal{M}_{h})$')\n",
    "ax1.legend()\n",
    "ax1.set_xlim(180,1000)\n",
    "# ax1.set_ylim(1e-5, np.max(bkg_entries)*2)\n",
    "\n",
    "ax2.plot(m4l_bins, np.ones_like(m4l_bins), color='black', linestyle='-')\n",
    "ax2.stairs((bkg_entries+hpi_entries) / tot_entries, m4l_bins, color='red', linestyle='solid')\n",
    "ax2.set_xscale('log')\n",
    "ax2.set_ylim(0.9,1.1)\n",
    "ax2.set_ylabel('$\\\\frac{|\\mathcal{M}_{ZZ}|^2 + |\\mathcal{M}_h|^2 + 2\\mathrm{Re}(\\mathcal{M}_{ZZ}^{\\dag}\\mathcal{M}_{h})}{|\\mathcal{M}_{ZZ} + \\mathcal{M}_h|^2}$')\n",
    "ax2.set_xlabel(\"$m_{4\\ell}$ [GeV]\")\n",
    "\n",
    "plt.tight_layout()\n",
    "plt.show()"
   ]
  }
 ],
 "metadata": {
  "kernelspec": {
   "display_name": "hep",
   "language": "python",
   "name": "python3"
  },
  "language_info": {
   "codemirror_mode": {
    "name": "ipython",
    "version": 3
   },
   "file_extension": ".py",
   "mimetype": "text/x-python",
   "name": "python",
   "nbconvert_exporter": "python",
   "pygments_lexer": "ipython3",
   "version": "3.12.7"
  }
 },
 "nbformat": 4,
 "nbformat_minor": 2
}
