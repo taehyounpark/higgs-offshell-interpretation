{
 "cells": [
  {
   "cell_type": "markdown",
   "metadata": {},
   "source": [
    "# Fully-unbinned analysis\n",
    "\n",
    "This notebook checks the fully-optimal sensitivity that can be achieved by extracting the maximum possible information from each event, i.e. fully calculate the density ratio between null and alternate hypotheses."
   ]
  },
  {
   "cell_type": "code",
   "execution_count": 1,
   "metadata": {},
   "outputs": [],
   "source": [
    "import numpy as np\n",
    "import pandas as pd\n",
    "import matplotlib.pyplot as plt\n",
    "import importlib\n",
    "\n",
    "from hstar import c6"
   ]
  },
  {
   "cell_type": "code",
   "execution_count": 2,
   "metadata": {},
   "outputs": [
    {
     "data": {
      "text/html": [
       "<div>\n",
       "<style scoped>\n",
       "    .dataframe tbody tr th:only-of-type {\n",
       "        vertical-align: middle;\n",
       "    }\n",
       "\n",
       "    .dataframe tbody tr th {\n",
       "        vertical-align: top;\n",
       "    }\n",
       "\n",
       "    .dataframe thead th {\n",
       "        text-align: right;\n",
       "    }\n",
       "</style>\n",
       "<table border=\"1\" class=\"dataframe\">\n",
       "  <thead>\n",
       "    <tr style=\"text-align: right;\">\n",
       "      <th></th>\n",
       "      <th>evtnum</th>\n",
       "      <th>p1_px</th>\n",
       "      <th>p1_py</th>\n",
       "      <th>p1_pz</th>\n",
       "      <th>p1_E</th>\n",
       "      <th>p2_px</th>\n",
       "      <th>p2_py</th>\n",
       "      <th>p2_pz</th>\n",
       "      <th>p2_E</th>\n",
       "      <th>p3_px</th>\n",
       "      <th>...</th>\n",
       "      <th>msq_sig_c6_19</th>\n",
       "      <th>msq_int_c6_19</th>\n",
       "      <th>msq_sbi_c6_19</th>\n",
       "      <th>msq_sig_c6_20</th>\n",
       "      <th>msq_int_c6_20</th>\n",
       "      <th>msq_sbi_c6_20</th>\n",
       "      <th>msq_sig_c6_21</th>\n",
       "      <th>msq_int_c6_21</th>\n",
       "      <th>msq_sbi_c6_21</th>\n",
       "      <th>wt</th>\n",
       "    </tr>\n",
       "  </thead>\n",
       "  <tbody>\n",
       "    <tr>\n",
       "      <th>0</th>\n",
       "      <td>0</td>\n",
       "      <td>0.0</td>\n",
       "      <td>0.0</td>\n",
       "      <td>-195.32320</td>\n",
       "      <td>-195.32320</td>\n",
       "      <td>0.0</td>\n",
       "      <td>0.0</td>\n",
       "      <td>54.23740</td>\n",
       "      <td>-54.23740</td>\n",
       "      <td>-4.247556</td>\n",
       "      <td>...</td>\n",
       "      <td>2.051790e-10</td>\n",
       "      <td>-8.223194e-10</td>\n",
       "      <td>1.323928e-08</td>\n",
       "      <td>1.950328e-10</td>\n",
       "      <td>-8.029987e-10</td>\n",
       "      <td>1.324845e-08</td>\n",
       "      <td>1.838184e-10</td>\n",
       "      <td>-7.810834e-10</td>\n",
       "      <td>1.325915e-08</td>\n",
       "      <td>0.000615</td>\n",
       "    </tr>\n",
       "    <tr>\n",
       "      <th>1</th>\n",
       "      <td>1</td>\n",
       "      <td>0.0</td>\n",
       "      <td>0.0</td>\n",
       "      <td>-96.28981</td>\n",
       "      <td>-96.28981</td>\n",
       "      <td>0.0</td>\n",
       "      <td>0.0</td>\n",
       "      <td>92.20487</td>\n",
       "      <td>-92.20487</td>\n",
       "      <td>-28.016310</td>\n",
       "      <td>...</td>\n",
       "      <td>1.277027e-10</td>\n",
       "      <td>-5.537373e-10</td>\n",
       "      <td>1.386738e-08</td>\n",
       "      <td>1.219553e-10</td>\n",
       "      <td>-5.427674e-10</td>\n",
       "      <td>1.387260e-08</td>\n",
       "      <td>1.155880e-10</td>\n",
       "      <td>-5.303150e-10</td>\n",
       "      <td>1.387868e-08</td>\n",
       "      <td>0.016020</td>\n",
       "    </tr>\n",
       "    <tr>\n",
       "      <th>2</th>\n",
       "      <td>2</td>\n",
       "      <td>0.0</td>\n",
       "      <td>0.0</td>\n",
       "      <td>-167.67200</td>\n",
       "      <td>-167.67200</td>\n",
       "      <td>0.0</td>\n",
       "      <td>0.0</td>\n",
       "      <td>76.07164</td>\n",
       "      <td>-76.07164</td>\n",
       "      <td>-14.601730</td>\n",
       "      <td>...</td>\n",
       "      <td>5.550639e-11</td>\n",
       "      <td>-2.961814e-10</td>\n",
       "      <td>7.703880e-09</td>\n",
       "      <td>5.213969e-11</td>\n",
       "      <td>-2.869017e-10</td>\n",
       "      <td>7.709793e-09</td>\n",
       "      <td>4.845677e-11</td>\n",
       "      <td>-2.764313e-10</td>\n",
       "      <td>7.716580e-09</td>\n",
       "      <td>0.000123</td>\n",
       "    </tr>\n",
       "    <tr>\n",
       "      <th>3</th>\n",
       "      <td>3</td>\n",
       "      <td>0.0</td>\n",
       "      <td>0.0</td>\n",
       "      <td>-73.39238</td>\n",
       "      <td>-73.39238</td>\n",
       "      <td>0.0</td>\n",
       "      <td>0.0</td>\n",
       "      <td>386.09270</td>\n",
       "      <td>-386.09270</td>\n",
       "      <td>35.364550</td>\n",
       "      <td>...</td>\n",
       "      <td>1.944437e-12</td>\n",
       "      <td>-3.364839e-12</td>\n",
       "      <td>1.025368e-10</td>\n",
       "      <td>1.919063e-12</td>\n",
       "      <td>-3.124387e-12</td>\n",
       "      <td>1.027519e-10</td>\n",
       "      <td>1.893200e-12</td>\n",
       "      <td>-2.850493e-12</td>\n",
       "      <td>1.029999e-10</td>\n",
       "      <td>0.000452</td>\n",
       "    </tr>\n",
       "    <tr>\n",
       "      <th>4</th>\n",
       "      <td>4</td>\n",
       "      <td>0.0</td>\n",
       "      <td>0.0</td>\n",
       "      <td>-296.38940</td>\n",
       "      <td>-296.38940</td>\n",
       "      <td>0.0</td>\n",
       "      <td>0.0</td>\n",
       "      <td>31.99196</td>\n",
       "      <td>-31.99196</td>\n",
       "      <td>-57.723710</td>\n",
       "      <td>...</td>\n",
       "      <td>1.076842e-10</td>\n",
       "      <td>-5.071508e-10</td>\n",
       "      <td>8.909091e-09</td>\n",
       "      <td>1.026555e-10</td>\n",
       "      <td>-4.961647e-10</td>\n",
       "      <td>8.915048e-09</td>\n",
       "      <td>9.709287e-11</td>\n",
       "      <td>-4.836978e-10</td>\n",
       "      <td>8.921952e-09</td>\n",
       "      <td>0.053417</td>\n",
       "    </tr>\n",
       "  </tbody>\n",
       "</table>\n",
       "<p>5 rows × 97 columns</p>\n",
       "</div>"
      ],
      "text/plain": [
       "   evtnum  p1_px  p1_py      p1_pz       p1_E  p2_px  p2_py      p2_pz  \\\n",
       "0       0    0.0    0.0 -195.32320 -195.32320    0.0    0.0   54.23740   \n",
       "1       1    0.0    0.0  -96.28981  -96.28981    0.0    0.0   92.20487   \n",
       "2       2    0.0    0.0 -167.67200 -167.67200    0.0    0.0   76.07164   \n",
       "3       3    0.0    0.0  -73.39238  -73.39238    0.0    0.0  386.09270   \n",
       "4       4    0.0    0.0 -296.38940 -296.38940    0.0    0.0   31.99196   \n",
       "\n",
       "        p2_E      p3_px  ...  msq_sig_c6_19  msq_int_c6_19  msq_sbi_c6_19  \\\n",
       "0  -54.23740  -4.247556  ...   2.051790e-10  -8.223194e-10   1.323928e-08   \n",
       "1  -92.20487 -28.016310  ...   1.277027e-10  -5.537373e-10   1.386738e-08   \n",
       "2  -76.07164 -14.601730  ...   5.550639e-11  -2.961814e-10   7.703880e-09   \n",
       "3 -386.09270  35.364550  ...   1.944437e-12  -3.364839e-12   1.025368e-10   \n",
       "4  -31.99196 -57.723710  ...   1.076842e-10  -5.071508e-10   8.909091e-09   \n",
       "\n",
       "   msq_sig_c6_20  msq_int_c6_20  msq_sbi_c6_20  msq_sig_c6_21  msq_int_c6_21  \\\n",
       "0   1.950328e-10  -8.029987e-10   1.324845e-08   1.838184e-10  -7.810834e-10   \n",
       "1   1.219553e-10  -5.427674e-10   1.387260e-08   1.155880e-10  -5.303150e-10   \n",
       "2   5.213969e-11  -2.869017e-10   7.709793e-09   4.845677e-11  -2.764313e-10   \n",
       "3   1.919063e-12  -3.124387e-12   1.027519e-10   1.893200e-12  -2.850493e-12   \n",
       "4   1.026555e-10  -4.961647e-10   8.915048e-09   9.709287e-11  -4.836978e-10   \n",
       "\n",
       "   msq_sbi_c6_21        wt  \n",
       "0   1.325915e-08  0.000615  \n",
       "1   1.387868e-08  0.016020  \n",
       "2   7.716580e-09  0.000123  \n",
       "3   1.029999e-10  0.000452  \n",
       "4   8.921952e-09  0.053417  \n",
       "\n",
       "[5 rows x 97 columns]"
      ]
     },
     "execution_count": 2,
     "metadata": {},
     "output_type": "execute_result"
    }
   ],
   "source": [
    "# read dataset\n",
    "lumi = 3000.0\n",
    "\n",
    "# cross-section x k-factor [fb]\n",
    "ggzz2e2m = c6.Sample(k=1.83, xs=1.4783394, events=pd.read_csv('/raven/u/taepa/mcfm/MCFM-10.3/Bin/ggZZ2e2m_all/events.csv'))\n",
    "ggzz4e = c6.Sample(k=1.83, xs=0.47412769, events=pd.read_csv('/raven/u/taepa/mcfm/MCFM-10.3/Bin/ggZZ4e_all/events.csv'))\n",
    "ggzz4m = c6.Sample(k=1.83, xs=0.47412769, events=pd.read_csv('/raven/u/taepa/mcfm/MCFM-10.3/Bin/ggZZ4m_all/events.csv'))\n",
    "\n",
    "ggzz2e2m.normalize(lumi)\n",
    "ggzz4e.normalize(lumi)\n",
    "ggzz4m.normalize(lumi)\n",
    "\n",
    "# concatenate all events into one sample\n",
    "ggzz = c6.Sample(k=1.83, xs=1.4783394+0.47412769+0.47412769, events = pd.concat([ggzz2e2m.events, ggzz4e.events, ggzz4m.events]))\n",
    "ggzz.sm_msq_key = 'msq_sbi_sm'\n",
    "ggzz.c6_msq_map = {\n",
    "  -5 : 'msq_sbi_c6_6',\n",
    "  -1 : 'msq_sbi_c6_10',\n",
    "  0 : 'msq_sbi_c6_11',\n",
    "  1 : 'msq_sbi_c6_12',\n",
    "  5 : 'msq_sbi_c6_16'\n",
    "}\n",
    "ggzz.events.head()"
   ]
  },
  {
   "cell_type": "code",
   "execution_count": 3,
   "metadata": {},
   "outputs": [
    {
     "data": {
      "text/plain": [
       "0"
      ]
     },
     "execution_count": 3,
     "metadata": {},
     "output_type": "execute_result"
    }
   ],
   "source": [
    "# clean up memory\n",
    "import gc\n",
    "del ggzz4e\n",
    "del ggzz4m\n",
    "del ggzz2e2m\n",
    "gc.collect()"
   ]
  },
  {
   "cell_type": "code",
   "execution_count": 4,
   "metadata": {},
   "outputs": [],
   "source": [
    "c6_min = -10\n",
    "c6_max = 10\n",
    "c6_step = 5\n",
    "c6_vals = np.arange(c6_min, c6_max+c6_step, c6_step)"
   ]
  },
  {
   "cell_type": "markdown",
   "metadata": {},
   "source": [
    "# Unbinned likelihood analysis\n",
    "\n",
    "Return to the per-event likelihood:\n",
    "\n",
    "$$ \\mathcal{L} (\\mathcal{D} | c_6) = \\frac{}{} \\prod_i^{N} p(x_i | c_6),$$\n",
    "\n",
    "where $N$ is the total number of events observed, and $p(x_i | c_6)$ is the probability (density) of the event under some hypothesis given by value of $c_6$.\n",
    "Given that the simulated dataset is that of the SM and the task is to constrain $c_6$, the best test statistic is given by the (negative log) likelihood ratio:\n",
    "\n",
    "$$ t_\\mu = - \\log \\left(\\frac{\\mathcal{L} (\\mathcal{D} | c_6)}{\\mathcal{L} (\\mathcal{D} | c_6 = 0)} \\right) = \\frac{}{} \\prod_i^{N} \\frac{p(x_i | c_6)}{p_\\mathrm{SM}(x_i)},$$\n",
    "\n",
    "where $p_\\mathrm{SM}(x_i) = p(x_i | c_6 = 0)$. Therefore, one must compute this *density ratio* \n",
    "\n",
    "$$OO_{\\mu} = \\frac{p(x_i | c_6)}{p_\\mathrm{SM}(x_i)}.$$\n",
    "\n",
    "Its computation for a set of events in a simulated dataset under different $c_6$ values is as follows:\n",
    "- The matrix element (squared) factor of the event weight to have a quartic polynomial dependence on $c_6$, where $c_6 = 0$ corresponds to the SM case: $|\\mathcal{M}(x_i | c_6)|^2 = |\\mathcal{M}_\\mathrm{SM}(x_i)|^2 \\cdot f_i(c_6) = |\\mathcal{M}_\\mathrm{SM}(x_i)|^2 \\cdot (1 + a_{1, i} c_6 + a_{2, i} c_6^2 + a_{3,i} c_6^3 + a_{4,i} c_6^4)$.\n",
    "- Since the rest of the event weight from parton distribution functions and Monte Carlo sampling factorizes out without any $c_6$ dependence, its $c_6$-dependence also follows as $w_i(c_6) = w_{i,\\mathrm{SM}} \\times f_i(c_6)$.\n",
    "- The probability of any given event is then given by $p(x_i | c_6) = w(x_i | c_6) / \\sum_i w(x_i | c_6)$.\n",
    "Under any given SM or $c_6$-valued scenario, the sum of the probabilities of all the events in the simulated dataset sum up to unity, $\\sum_i p(x_i | c_6) = 1.$"
   ]
  },
  {
   "cell_type": "code",
   "execution_count": 5,
   "metadata": {},
   "outputs": [
    {
     "name": "stderr",
     "output_type": "stream",
     "text": [
      "/tmp/ipykernel_135920/2117909218.py:11: RuntimeWarning: invalid value encountered in log\n",
      "  nll += -2 * np.sum(nu_sm[:, np.newaxis] * np.log(pratio_c6), axis=0)\n"
     ]
    }
   ],
   "source": [
    "c6_vals = np.linspace(-20.0, 20.0, 201)\n",
    "\n",
    "nu_c6 = np.array(ggzz.nu(c6_vals,per_event=True))\n",
    "nu_sm = np.array(ggzz.nu(per_event=True))\n",
    "p_c6 = nu_c6 / ggzz.nu(c6_vals)\n",
    "p_sm = nu_sm / ggzz.nu()\n",
    "pratio_c6 = p_c6 / p_sm[:, np.newaxis]\n",
    "\n",
    "nll = -2 * (ggzz.nu()) * (np.log(ggzz.nu(c6_vals)) - np.log(ggzz.nu()))\n",
    "nll += +2 * (ggzz.nu(c6_vals) - ggzz.nu())\n",
    "nll += -2 * np.sum(nu_sm[:, np.newaxis] * np.log(pratio_c6), axis=0)\n",
    "\n",
    "# filter out NaN's\n",
    "condition = ~np.isnan(nll)\n",
    "nll = nll[condition]\n",
    "c6_vals = c6_vals[condition]"
   ]
  },
  {
   "cell_type": "code",
   "execution_count": 6,
   "metadata": {},
   "outputs": [
    {
     "name": "stdout",
     "output_type": "stream",
     "text": [
      "1.552892010010182e-09\n"
     ]
    },
    {
     "data": {
      "image/png": "[encoded data removed]",
      "text/plain": [
       "<Figure size 640x480 with 1 Axes>"
      ]
     },
     "metadata": {},
     "output_type": "display_data"
    }
   ],
   "source": [
    "# find minimum\n",
    "imin = np.argmin(nll)\n",
    "nll_min = nll[imin]\n",
    "c6_at_nll_min = c6_vals[imin]\n",
    "\n",
    "print(nll_min)\n",
    "\n",
    "# plot the scan + minimum\n",
    "plt.plot(c6_vals, nll)\n",
    "plt.scatter(c6_at_nll_min, nll_min, marker='o', color='red')\n",
    "plt.show()"
   ]
  },
  {
   "cell_type": "code",
   "execution_count": 7,
   "metadata": {},
   "outputs": [],
   "source": [
    "c6_vals = np.round(c6_vals, decimals = 1)\n",
    "df = pd.DataFrame({'c6' : c6_vals, 'nll' : nll} )\n",
    "df.to_csv('nll-full.csv', index=False)"
   ]
  },
  {
   "cell_type": "code",
   "execution_count": null,
   "metadata": {},
   "outputs": [],
   "source": []
  }
 ],
 "metadata": {
  "kernelspec": {
   "display_name": "Python 3",
   "language": "python",
   "name": "python3"
  },
  "language_info": {
   "codemirror_mode": {
    "name": "ipython",
    "version": 3
   },
   "file_extension": ".py",
   "mimetype": "text/x-python",
   "name": "python",
   "nbconvert_exporter": "python",
   "pygments_lexer": "ipython3",
   "version": "3.12.5"
  }
 },
 "nbformat": 4,
 "nbformat_minor": 2
}
