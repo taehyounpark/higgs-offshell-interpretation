{
 "cells": [
  {
   "cell_type": "markdown",
   "metadata": {},
   "source": [
    "# $c_6$-dependence of $gg(\\rightarrow h^{\\ast})\\rightarrow ZZ$ process"
   ]
  },
  {
   "cell_type": "code",
   "execution_count": 2,
   "metadata": {},
   "outputs": [],
   "source": [
    "# modules\n",
    "import numpy as np\n",
    "import pandas as pd\n",
    "import matplotlib.pyplot as plt"
   ]
  },
  {
   "cell_type": "code",
   "execution_count": 3,
   "metadata": {},
   "outputs": [],
   "source": [
    "# helper functions\n",
    "\n",
    "def solve_polynomial_coefficients(x, y):\n",
    "  \"\"\"\n",
    "  Finds the coefficients of the polynomial that fits the given (x, y) coordinates.\n",
    "\n",
    "  Parameters:\n",
    "  x (array-like): An array of x coordinates.\n",
    "  y (array-like): An array of y coordinates.\n",
    "\n",
    "  Returns:\n",
    "  numpy.ndarray: The coefficients of the polynomial.\n",
    "  \"\"\"\n",
    "  # Ensure x and y are numpy arrays\n",
    "  x = np.array(x)\n",
    "  y = np.array(y)\n",
    "  \n",
    "  # Number of points\n",
    "  N = len(x) - 1\n",
    "  \n",
    "  # Construct the Vandermonde matrix\n",
    "  V = np.vander(x, N+1, increasing=True)\n",
    "  \n",
    "  # Solve for the polynomial coefficients\n",
    "  coefficients = np.linalg.solve(V, y)\n",
    "  \n",
    "  return coefficients\n",
    "\n",
    "def polynomial(coeffs):\n",
    "  \"\"\"\n",
    "  Construct a polynomial over a domain.\n",
    "\n",
    "  Parameters:\n",
    "  coeffs (array-like): polynomial coefficients.\n",
    "\n",
    "  Returns:\n",
    "  Callable: Invoke with the the domain to get values of the polynomial function over it.\n",
    "  \"\"\"\n",
    "  def polynomial(x):\n",
    "    return sum(c * x**i for i, c in enumerate(coeffs))\n",
    "  return polynomial"
   ]
  },
  {
   "cell_type": "code",
   "execution_count": 4,
   "metadata": {},
   "outputs": [],
   "source": [
    "# read events of each sample\n",
    "filepath = '/raven/u/taepa/mcfm/MCFM-10.3/Bin/ggZZ2e2m_all/events.csv'\n",
    "events = pd.read_csv(filepath, nrows=1000)\n",
    "\n",
    "xsec = 1.4787447,\n",
    "lumi = 3000.0\n",
    "events['wt'] = events['wt'] * xsec * lumi / np.sum(events['wt'])"
   ]
  },
  {
   "cell_type": "markdown",
   "metadata": {},
   "source": [
    "## Check: component-wise $c_6$-dependence factorization\n",
    "\n",
    "$$ p(x_i | \\theta) = \\frac{1}{\\nu(\\theta)} \\sum_{j} f_j(x_i | \\theta) \\cdot p(x_i | \\theta_0) $$"
   ]
  },
  {
   "cell_type": "code",
   "execution_count": 14,
   "metadata": {},
   "outputs": [
    {
     "name": "stdout",
     "output_type": "stream",
     "text": [
      "[np.float64(0.7893807702998114), np.float64(0.7210032761263563), np.float64(0.9387082794942915), np.float64(0.7652391644233368), np.float64(0.8384089397427711)]\n",
      "[np.float64(1.0019470520246236), np.float64(1.0042125345351052), np.float64(1.010898080763965), np.float64(1.0015517180306666), np.float64(1.014124917320088)]\n"
     ]
    }
   ],
   "source": [
    "random_event_indices = [1,2,3,123,321]\n",
    "\n",
    "print([events['msq_sig_c6_21'][random_event_index] / events['msq_sig_sm'][random_event_index] for random_event_index in random_event_indices])\n",
    "\n",
    "print([events['msq_sbi_c6_21'][random_event_index] / events['msq_sbi_sm'][random_event_index] for random_event_index in random_event_indices])"
   ]
  },
  {
   "cell_type": "code",
   "execution_count": null,
   "metadata": {},
   "outputs": [],
   "source": []
  }
 ],
 "metadata": {
  "kernelspec": {
   "display_name": "ml",
   "language": "python",
   "name": "python3"
  },
  "language_info": {
   "codemirror_mode": {
    "name": "ipython",
    "version": 3
   },
   "file_extension": ".py",
   "mimetype": "text/x-python",
   "name": "python",
   "nbconvert_exporter": "python",
   "pygments_lexer": "ipython3",
   "version": "3.12.5"
  }
 },
 "nbformat": 4,
 "nbformat_minor": 2
}
