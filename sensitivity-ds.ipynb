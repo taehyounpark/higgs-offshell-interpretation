{
 "cells": [
  {
   "cell_type": "markdown",
   "metadata": {},
   "source": [
    "# $D_S$ analysis\n",
    "\n",
    "Let's start off with a \"dumb\" analysis: a binned histogram analysis using $m_{4\\ell}$ as the summary statistic."
   ]
  },
  {
   "cell_type": "code",
   "execution_count": 4,
   "metadata": {},
   "outputs": [],
   "source": [
    "import numpy as np\n",
    "import pandas as pd\n",
    "import matplotlib.pyplot as plt\n",
    "import importlib\n",
    "\n",
    "from hstar import c6\n",
    "from inference import stat"
   ]
  },
  {
   "cell_type": "markdown",
   "metadata": {},
   "source": [
    "## Computation of $D_S$\n",
    "\n",
    "The discriminant is defined as\n",
    "\n",
    "$$D_S = -\\log \\left( \\frac{|\\mathcal{M}_{gg\\to h^{\\ast}\\to ZZ}|^2}{|\\mathcal{M}_{gg\\to ZZ}|^2} \\right)$$\n",
    "\n",
    "This variable will be computed for a generated dataset by constructing two samples out of the same set of events as the following:\n",
    "\n",
    "1. First fully-physical $gg \\to ZZ$ sample from which both its matrix element and the event weight can be morphed to $c_6$.\n",
    "2. Second unphysical $gg \\to h^{\\ast} \\to ZZ$ sample from which only its matrix element is morphed to $c_6$."
   ]
  },
  {
   "cell_type": "code",
   "execution_count": 2,
   "metadata": {},
   "outputs": [],
   "source": [
    "# read dataset\n",
    "filepath = '/raven/u/taepa/mcfm/MCFM-10.3/Bin/ggZZ2e2m_all/events.csv'\n",
    "events = pd.read_csv(filepath)\n",
    "\n",
    "# full gg->ZZ sample\n",
    "# note: normalizing the event weights because they are important!\n",
    "lumi = 300.0\n",
    "ggzz = c6.Sample(k=1.83, xs=1.4783394, events=events) # cross-section x k-factor [fb]\n",
    "ggzz.sm_msq_key = 'msq_gg_sm'\n",
    "ggzz.c6_msq_map = {\n",
    "    -5 : 'msq_gg_c6_6',\n",
    "    -1 : 'msq_gg_c6_10',\n",
    "    0 : 'msq_gg_c6_11',\n",
    "    1 : 'msq_gg_c6_12',\n",
    "    5 : 'msq_gg_c6_16'\n",
    "  }\n",
    "ggzz.normalize(lumi)\n",
    "\n",
    "# signal-only gg->h*->ZZ sample\n",
    "# note: negative cross-section, because it doesn't matter!\n",
    "gghzz = c6.Sample(xs=-99, events=events)\n",
    "gghzz.sm_msq_key = 'msq_h_sm'\n",
    "gghzz.c6_msq_map = {\n",
    "    -5 : 'msq_h_c6_6',\n",
    "    -1 : 'msq_h_c6_10',\n",
    "    0 : 'msq_h_c6_11',\n",
    "    1 : 'msq_h_c6_12',\n",
    "    5 : 'msq_h_c6_16'\n",
    "  }"
   ]
  },
  {
   "cell_type": "code",
   "execution_count": 3,
   "metadata": {},
   "outputs": [
    {
     "ename": "TypeError",
     "evalue": "'float' object cannot be interpreted as an integer",
     "output_type": "error",
     "traceback": [
      "\u001b[0;31m---------------------------------------------------------------------------\u001b[0m",
      "\u001b[0;31mTypeError\u001b[0m                                 Traceback (most recent call last)",
      "Cell \u001b[0;32mIn[3], line 3\u001b[0m\n\u001b[1;32m      1\u001b[0m ds_sm \u001b[38;5;241m=\u001b[39m \u001b[38;5;241m-\u001b[39m np\u001b[38;5;241m.\u001b[39mlog( gghzz\u001b[38;5;241m.\u001b[39mmsq() \u001b[38;5;241m/\u001b[39m ggzz\u001b[38;5;241m.\u001b[39mmsq() )\n\u001b[0;32m----> 3\u001b[0m c6_vals \u001b[38;5;241m=\u001b[39m \u001b[43mnp\u001b[49m\u001b[38;5;241;43m.\u001b[39;49m\u001b[43mlinspace\u001b[49m\u001b[43m(\u001b[49m\u001b[38;5;241;43m-\u001b[39;49m\u001b[38;5;241;43m20.0\u001b[39;49m\u001b[43m,\u001b[49m\u001b[43m \u001b[49m\u001b[38;5;241;43m30.0\u001b[39;49m\u001b[43m,\u001b[49m\u001b[43m \u001b[49m\u001b[38;5;241;43m10.0\u001b[39;49m\u001b[43m)\u001b[49m\n\u001b[1;32m      4\u001b[0m msq_gghzz_c6 \u001b[38;5;241m=\u001b[39m gghzz\u001b[38;5;241m.\u001b[39mmsq(c6_vals)\n\u001b[1;32m      5\u001b[0m msq_ggzz_c6 \u001b[38;5;241m=\u001b[39m ggzz\u001b[38;5;241m.\u001b[39mmsq(c6_vals)\n",
      "File \u001b[0;32m~/conda-envs/ml/lib/python3.12/site-packages/numpy/_core/function_base.py:128\u001b[0m, in \u001b[0;36mlinspace\u001b[0;34m(start, stop, num, endpoint, retstep, dtype, axis, device)\u001b[0m\n\u001b[1;32m     25\u001b[0m \u001b[38;5;129m@array_function_dispatch\u001b[39m(_linspace_dispatcher)\n\u001b[1;32m     26\u001b[0m \u001b[38;5;28;01mdef\u001b[39;00m \u001b[38;5;21mlinspace\u001b[39m(start, stop, num\u001b[38;5;241m=\u001b[39m\u001b[38;5;241m50\u001b[39m, endpoint\u001b[38;5;241m=\u001b[39m\u001b[38;5;28;01mTrue\u001b[39;00m, retstep\u001b[38;5;241m=\u001b[39m\u001b[38;5;28;01mFalse\u001b[39;00m, dtype\u001b[38;5;241m=\u001b[39m\u001b[38;5;28;01mNone\u001b[39;00m,\n\u001b[1;32m     27\u001b[0m              axis\u001b[38;5;241m=\u001b[39m\u001b[38;5;241m0\u001b[39m, \u001b[38;5;241m*\u001b[39m, device\u001b[38;5;241m=\u001b[39m\u001b[38;5;28;01mNone\u001b[39;00m):\n\u001b[1;32m     28\u001b[0m \u001b[38;5;250m    \u001b[39m\u001b[38;5;124;03m\"\"\"\u001b[39;00m\n\u001b[1;32m     29\u001b[0m \u001b[38;5;124;03m    Return evenly spaced numbers over a specified interval.\u001b[39;00m\n\u001b[1;32m     30\u001b[0m \n\u001b[0;32m   (...)\u001b[0m\n\u001b[1;32m    126\u001b[0m \n\u001b[1;32m    127\u001b[0m \u001b[38;5;124;03m    \"\"\"\u001b[39;00m\n\u001b[0;32m--> 128\u001b[0m     num \u001b[38;5;241m=\u001b[39m \u001b[43moperator\u001b[49m\u001b[38;5;241;43m.\u001b[39;49m\u001b[43mindex\u001b[49m\u001b[43m(\u001b[49m\u001b[43mnum\u001b[49m\u001b[43m)\u001b[49m\n\u001b[1;32m    129\u001b[0m     \u001b[38;5;28;01mif\u001b[39;00m num \u001b[38;5;241m<\u001b[39m \u001b[38;5;241m0\u001b[39m:\n\u001b[1;32m    130\u001b[0m         \u001b[38;5;28;01mraise\u001b[39;00m \u001b[38;5;167;01mValueError\u001b[39;00m(\n\u001b[1;32m    131\u001b[0m             \u001b[38;5;124m\"\u001b[39m\u001b[38;5;124mNumber of samples, \u001b[39m\u001b[38;5;132;01m%s\u001b[39;00m\u001b[38;5;124m, must be non-negative.\u001b[39m\u001b[38;5;124m\"\u001b[39m \u001b[38;5;241m%\u001b[39m num\n\u001b[1;32m    132\u001b[0m         )\n",
      "\u001b[0;31mTypeError\u001b[0m: 'float' object cannot be interpreted as an integer"
     ]
    }
   ],
   "source": [
    "ds_sm = - np.log( gghzz.msq() / ggzz.msq() )\n",
    "\n",
    "c6_vals = np.arange(-20.0, 30.0, 10.0)\n",
    "msq_gghzz_c6 = gghzz.msq(c6_vals)\n",
    "msq_ggzz_c6 = ggzz.msq(c6_vals)\n",
    "ds_c6 = - np.log10(msq_gghzz_c6 / msq_ggzz_c6)"
   ]
  },
  {
   "cell_type": "code",
   "execution_count": 26,
   "metadata": {},
   "outputs": [],
   "source": [
    "ds_bins = np.arange(-5,10.1,0.1)\n",
    "ds_sm_centers = 0.5 * (ds_bins[1:] + ds_bins[:-1])"
   ]
  },
  {
   "cell_type": "code",
   "execution_count": null,
   "metadata": {},
   "outputs": [],
   "source": [
    "fig, (ax1, ax2) = plt.subplots(2, 1, figsize=(8, 8), sharex=True, height_ratios=(2,1))\n",
    "\n",
    "h_ds_sm, _ = np.histogram(ds_sm, bins=ds_bins, weights=ggzz.nu(per_event=True))\n",
    "ax1.step(ds_bins[:-1], h_ds_sm, where='post', label='SM')\n",
    "\n",
    "h_ds_c6, _ = np.histogram(ds_c6[:, 0], bins=ds_bins, weights=ggzz.nu(c6_vals[0], per_event=True))\n",
    "ax1.step(ds_bins[:-1], h_ds_c6, where='post', label=f'$c_6 = {c6_vals[0]}$')\n",
    "ratio = np.divide(h_ds_c6, h_ds_sm, out=np.zeros_like(h_ds_sm), where=h_ds_sm!=0)\n",
    "ax2.plot(ds_sm_centers, ratio, '--', label=f'$c_6 = {c6_vals[0]}$')\n",
    "\n",
    "h_ds_c6, _ = np.histogram(ds_c6[:, -1], bins=ds_bins, weights=ggzz.nu(c6_vals[-1], per_event=True))\n",
    "ax1.step(ds_bins[:-1], h_ds_c6, where='post', color='red', label=f'$c_6 = {c6_vals[-1]}$')\n",
    "ratio = np.divide(h_ds_c6, h_ds_sm, out=np.zeros_like(h_ds_sm), where=h_ds_sm!=0)\n",
    "ax2.plot(ds_sm_centers, ratio, '--', color='red', label=f'$c_6 = {c6_vals[-1]}$')\n",
    "\n",
    "ax1.set_xlim(-5,10)\n",
    "ax1.set_ylabel('Number of Events')\n",
    "# ax1.set_yscale('log')\n",
    "ax1.legend()\n",
    "\n",
    "ax2.set_ylim(0.8,1.2)\n",
    "ax2.set_xlabel('$m_{4\\\\ell}$ [GeV]')\n",
    "ax2.set_ylabel('$c_6$ / SM')\n",
    "\n",
    "plt.tight_layout()\n",
    "plt.show()"
   ]
  },
  {
   "cell_type": "code",
   "execution_count": 22,
   "metadata": {},
   "outputs": [
    {
     "ename": "NameError",
     "evalue": "name 'm4l' is not defined",
     "output_type": "error",
     "traceback": [
      "\u001b[0;31m---------------------------------------------------------------------------\u001b[0m",
      "\u001b[0;31mNameError\u001b[0m                                 Traceback (most recent call last)",
      "Cell \u001b[0;32mIn[22], line 4\u001b[0m\n\u001b[1;32m      1\u001b[0m c6_vals \u001b[38;5;241m=\u001b[39m np\u001b[38;5;241m.\u001b[39mlinspace(\u001b[38;5;241m-\u001b[39m\u001b[38;5;241m20.0\u001b[39m, \u001b[38;5;241m20.0\u001b[39m, \u001b[38;5;241m201\u001b[39m)\n\u001b[1;32m      2\u001b[0m nll \u001b[38;5;241m=\u001b[39m np\u001b[38;5;241m.\u001b[39mzeros_like(c6_vals)\n\u001b[0;32m----> 4\u001b[0m m4l_sm, _ \u001b[38;5;241m=\u001b[39m np\u001b[38;5;241m.\u001b[39mhistogram(\u001b[43mm4l\u001b[49m, bins\u001b[38;5;241m=\u001b[39mm4l_bins, weights\u001b[38;5;241m=\u001b[39mggzz\u001b[38;5;241m.\u001b[39mnu(per_event\u001b[38;5;241m=\u001b[39m\u001b[38;5;28;01mTrue\u001b[39;00m))\n\u001b[1;32m      5\u001b[0m wts_c6 \u001b[38;5;241m=\u001b[39m ggzz\u001b[38;5;241m.\u001b[39mnu(c6_vals, per_event\u001b[38;5;241m=\u001b[39m\u001b[38;5;28;01mTrue\u001b[39;00m)\n\u001b[1;32m      6\u001b[0m \u001b[38;5;28;01mfor\u001b[39;00m i, c6_val \u001b[38;5;129;01min\u001b[39;00m \u001b[38;5;28menumerate\u001b[39m(c6_vals):\n",
      "\u001b[0;31mNameError\u001b[0m: name 'm4l' is not defined"
     ]
    }
   ],
   "source": [
    "c6_vals = np.linspace(-20.0, 20.0, 201)\n",
    "nll = np.zeros_like(c6_vals)\n",
    "\n",
    "m4l_sm, _ = np.histogram(m4l, bins=m4l_bins, weights=ggzz.nu(per_event=True))\n",
    "wts_c6 = ggzz.nu(c6_vals, per_event=True)\n",
    "for i, c6_val in enumerate(c6_vals):\n",
    "  m4l_c6, _ = np.histogram(m4l, bins=m4l_bins, weights=wts_c6[:,i])\n",
    "  nll[i] = stat.nll(m4l_sm, m4l_c6)\n",
    "nll = nll - np.min(nll)"
   ]
  },
  {
   "cell_type": "code",
   "execution_count": 25,
   "metadata": {},
   "outputs": [],
   "source": [
    "c6_vals = np.round(c6_vals, decimals = 1)\n",
    "df = pd.DataFrame({'c6' : c6_vals, 'nll' : nll} )\n",
    "df.to_csv('c6_nll_m4l.csv', index=False)"
   ]
  }
 ],
 "metadata": {
  "kernelspec": {
   "display_name": "Python 3",
   "language": "python",
   "name": "python3"
  },
  "language_info": {
   "codemirror_mode": {
    "name": "ipython",
    "version": 3
   },
   "file_extension": ".py",
   "mimetype": "text/x-python",
   "name": "python",
   "nbconvert_exporter": "python",
   "pygments_lexer": "ipython3",
   "version": "3.12.5"
  }
 },
 "nbformat": 4,
 "nbformat_minor": 2
}
