{
 "cells": [
  {
   "cell_type": "code",
   "execution_count": 1,
   "metadata": {},
   "outputs": [
    {
     "name": "stderr",
     "output_type": "stream",
     "text": [
      "2024-11-14 14:03:16.955513: I tensorflow/core/util/port.cc:153] oneDNN custom operations are on. You may see slightly different numerical results due to floating-point round-off errors from different computation orders. To turn them off, set the environment variable `TF_ENABLE_ONEDNN_OPTS=0`.\n",
      "2024-11-14 14:03:21.823744: E external/local_xla/xla/stream_executor/cuda/cuda_fft.cc:477] Unable to register cuFFT factory: Attempting to register factory for plugin cuFFT when one has already been registered\n",
      "WARNING: All log messages before absl::InitializeLog() is called are written to STDERR\n",
      "E0000 00:00:1731589403.075804  116133 cuda_dnn.cc:8310] Unable to register cuDNN factory: Attempting to register factory for plugin cuDNN when one has already been registered\n",
      "E0000 00:00:1731589403.436958  116133 cuda_blas.cc:1418] Unable to register cuBLAS factory: Attempting to register factory for plugin cuBLAS when one has already been registered\n",
      "2024-11-14 14:03:26.249608: I tensorflow/core/platform/cpu_feature_guard.cc:210] This TensorFlow binary is optimized to use available CPU instructions in performance-critical operations.\n",
      "To enable the following instructions: AVX2 AVX512F AVX512_VNNI FMA, in other operations, rebuild TensorFlow with the appropriate compiler flags.\n"
     ]
    }
   ],
   "source": [
    "from hstar import process\n",
    "from hstar import trilinear\n",
    "from hzz import angles\n",
    "from hzz import zcandidate\n",
    "\n",
    "import numpy as np\n",
    "import matplotlib.pyplot as plt"
   ]
  },
  {
   "cell_type": "code",
   "execution_count": 2,
   "metadata": {},
   "outputs": [],
   "source": [
    "sample = process.Sample(weight='wt', \n",
    "    amplitude = process.Basis.SBI, components = {\n",
    "    process.Basis.SBI: 'msq_sbi_sm',\n",
    "    process.Basis.SIG: 'msq_sig_sm',\n",
    "    process.Basis.BKG: 'msq_bkg_sm',\n",
    "    process.Basis.INT: 'msq_int_sm'\n",
    "  })\n",
    "\n",
    "sample.open(csv = [\n",
    "  '../ggZZ2e2m_all_new.csv',\n",
    "  '../ggZZ4e_all_new.csv',\n",
    "  '../ggZZ4m_all_new.csv'\n",
    "  ], xs=[1.4783394, 0.47412769, 0.47412769],\n",
    "    lumi=3000., k=1.83, nrows=1000000\n",
    ")"
   ]
  },
  {
   "cell_type": "code",
   "execution_count": 3,
   "metadata": {},
   "outputs": [
    {
     "name": "stdout",
     "output_type": "stream",
     "text": [
      "Deleting refs p12, p23, p14, p34\n",
      "Deleting ref chi_sq\n",
      "Deleting ref cond\n",
      "Deleting refs pairs, lepton_pairs, closest_pair_indices, closest_pair, pT_max_ind, pT_min_ind\n",
      "0\n"
     ]
    },
    {
     "ename": "ValueError",
     "evalue": "too many values to unpack (expected 2)",
     "output_type": "error",
     "traceback": [
      "\u001b[0;31m---------------------------------------------------------------------------\u001b[0m",
      "\u001b[0;31mValueError\u001b[0m                                Traceback (most recent call last)",
      "Cell \u001b[0;32mIn[3], line 4\u001b[0m\n\u001b[1;32m      1\u001b[0m zmasses \u001b[38;5;241m=\u001b[39m zcandidate\u001b[38;5;241m.\u001b[39mZmassPairChooser(sample)\n\u001b[1;32m      2\u001b[0m leptons \u001b[38;5;241m=\u001b[39m zmasses\u001b[38;5;241m.\u001b[39mfind_Z()\n\u001b[0;32m----> 4\u001b[0m kinematics, legal_inds \u001b[38;5;241m=\u001b[39m angles\u001b[38;5;241m.\u001b[39mcalculate(leptons[:,\u001b[38;5;241m0\u001b[39m], leptons[:,\u001b[38;5;241m1\u001b[39m], leptons[:,\u001b[38;5;241m2\u001b[39m], leptons[:,\u001b[38;5;241m3\u001b[39m])\n\u001b[1;32m      6\u001b[0m kinematics \u001b[38;5;241m=\u001b[39m kinematics[legal_inds]\n\u001b[1;32m      7\u001b[0m zmasses\u001b[38;5;241m.\u001b[39mdf \u001b[38;5;241m=\u001b[39m zmasses\u001b[38;5;241m.\u001b[39mdf\u001b[38;5;241m.\u001b[39mtake(legal_inds)\n",
      "\u001b[0;31mValueError\u001b[0m: too many values to unpack (expected 2)"
     ]
    }
   ],
   "source": [
    "zmasses = zcandidate.ZmassPairChooser(sample)\n",
    "leptons = zmasses.find_Z()\n",
    "\n",
    "kinematics, legal_inds = angles.calculate(leptons[:,0], leptons[:,1], leptons[:,2], leptons[:,3])\n",
    "\n",
    "kinematics = kinematics[legal_inds]\n",
    "zmasses.df = zmasses.df.take(legal_inds)\n",
    "zmasses.sample.events = zmasses.df\n",
    "\n",
    "leptons = leptons[legal_inds]\n",
    "\n",
    "c6_mod = trilinear.Modifier(c6_values = [-5,-1,0,1,5], c6_amplitudes = ['msq_sbi_c6_6', 'msq_sbi_c6_10', 'msq_sbi_c6_11', 'msq_sbi_c6_12', 'msq_sbi_c6_16'])\n",
    "c6_weights = c6_mod.modify(sample=zmasses.sample, c6=[-20,-10,10,20,30])"
   ]
  },
  {
   "cell_type": "code",
   "execution_count": null,
   "metadata": {},
   "outputs": [],
   "source": [
    "m4l = (leptons[:,0] + leptons[:,1] + leptons[:,2] + leptons[:,3]).mass\n",
    "m4l = zmasses.m4l[legal_inds]\n",
    "\n",
    "hist, bins = np.histogram(m4l, bins=60, range=(180,1000), weights=zmasses.sample.events['wt'])\n",
    "hist1, bins = np.histogram(m4l, bins=60, range=(180,1000), weights=c6_weights.T[1]) # -10\n",
    "hist2, bins = np.histogram(m4l, bins=60, range=(180,1000), weights=c6_weights.T[2]) # 10\n",
    "hist3, bins = np.histogram(m4l, bins=60, range=(180,1000), weights=c6_weights.T[0]) # -20\n",
    "hist4, bins = np.histogram(m4l, bins=60, range=(180,1000), weights=c6_weights.T[3]) # 20\n",
    "hist5, bins = np.histogram(m4l, bins=60, range=(180,1000), weights=c6_weights.T[4]) # 30\n",
    "\n",
    "fig, (ax1, ax2) = plt.subplots(2,1, gridspec_kw={'height_ratios': [4, 1]}, figsize=(6,7))\n",
    "\n",
    "ax1.set_xticklabels([])\n",
    "\n",
    "ax1.step(bins[:-1], hist, color='k', label=u'SM ($c_6=0$)', linestyle='--')\n",
    "ax1.step(bins[:-1], hist1, color='r', label=u'BSM ($c_6=-10$)')\n",
    "ax1.step(bins[:-1], hist2, color='b', label=u'BSM ($c_6=10$)')\n",
    "#ax1.step(bins[:-1], hist5, color='b', label=u'BSM ($c_6=30$)')\n",
    "\n",
    "ax1.set_ylabel('Number of events []')\n",
    "ax1.set_yscale('log')\n",
    "\n",
    "ax1.legend()\n",
    "\n",
    "\n",
    "ax2.step(bins[:-1], hist/hist, color='k', linestyle='--', label=u'SM ($c_6=0$)')\n",
    "ax2.step(bins[:-1], hist1/hist, color='r', label=u'BSM ($c_6=-10$)')\n",
    "ax2.step(bins[:-1], hist2/hist, color='b', label=u'BSM ($c_6=10$)')\n",
    "#ax2.step(bins[:-1], hist5/hist, color='b', label=u'BSM ($c_6=30$)')\n",
    "\n",
    "ax2.set_xlabel(u'$m_{4\\ell}$ [GeV]')\n",
    "ax2.set_ylabel('R []')\n",
    "ax2.set_ybound(0.99,1.02)\n",
    "\n",
    "fig.tight_layout()\n",
    "\n",
    "plt.show()"
   ]
  }
 ],
 "metadata": {
  "kernelspec": {
   "display_name": "venv",
   "language": "python",
   "name": "python3"
  },
  "language_info": {
   "codemirror_mode": {
    "name": "ipython",
    "version": 3
   },
   "file_extension": ".py",
   "mimetype": "text/x-python",
   "name": "python",
   "nbconvert_exporter": "python",
   "pygments_lexer": "ipython3",
   "version": "3.12.4"
  }
 },
 "nbformat": 4,
 "nbformat_minor": 2
}
