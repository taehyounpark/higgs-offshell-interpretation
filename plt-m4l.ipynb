{
 "cells": [
  {
   "cell_type": "code",
   "execution_count": null,
   "metadata": {},
   "outputs": [],
   "source": [
    "from hstar import process\n",
    "from hstar import trilinear\n",
    "from hzz import angles\n",
    "from hzz import zcandidate\n",
    "\n",
    "import numpy as np\n",
    "import matplotlib.pyplot as plt"
   ]
  },
  {
   "cell_type": "code",
   "execution_count": null,
   "metadata": {},
   "outputs": [],
   "source": [
    "sample = process.Sample(weight='wt', \n",
    "    amplitude = process.Basis.SBI, components = {\n",
    "    process.Basis.SBI: 'msq_sbi_sm',\n",
    "    process.Basis.SIG: 'msq_sig_sm',\n",
    "    process.Basis.BKG: 'msq_bkg_sm',\n",
    "    process.Basis.INT: 'msq_int_sm'\n",
    "  })\n",
    "\n",
    "sample.open(csv = [\n",
    "  '../ggZZ2e2m_all_new.csv',\n",
    "  '../ggZZ4e_all_new.csv',\n",
    "  '../ggZZ4m_all_new.csv'\n",
    "  ], xs=[1.4783394, 0.47412769, 0.47412769],\n",
    "    lumi=3000., k=1.83, nrows=1000000\n",
    ")"
   ]
  },
  {
   "cell_type": "code",
   "execution_count": null,
   "metadata": {},
   "outputs": [],
   "source": [
    "zmasses = zcandidate.ZmassPairChooser(sample)\n",
    "leptons = zmasses.find_Z()\n",
    "\n",
    "kinematics, legal_inds = angles.calculate(leptons[:,0], leptons[:,1], leptons[:,2], leptons[:,3])\n",
    "\n",
    "kinematics = kinematics[legal_inds]\n",
    "zmasses.df = zmasses.df.take(legal_inds)\n",
    "zmasses.sample.events = zmasses.df\n",
    "\n",
    "leptons = leptons[legal_inds]\n",
    "\n",
    "c6_mod = trilinear.Modifier(c6_values = [-5,-1,0,1,5], c6_amplitudes = ['msq_sbi_c6_6', 'msq_sbi_c6_10', 'msq_sbi_c6_11', 'msq_sbi_c6_12', 'msq_sbi_c6_16'])\n",
    "c6_weights = c6_mod.modify(sample=zmasses.sample, c6=[-20,-10,10,20,30])"
   ]
  },
  {
   "cell_type": "code",
   "execution_count": null,
   "metadata": {},
   "outputs": [],
   "source": [
    "m4l = (leptons[:,0] + leptons[:,1] + leptons[:,2] + leptons[:,3]).mass\n",
    "m4l = zmasses.m4l[legal_inds]\n",
    "\n",
    "hist, bins = np.histogram(m4l, bins=60, range=(180,1000), weights=zmasses.sample.events['wt'])\n",
    "hist1, bins = np.histogram(m4l, bins=60, range=(180,1000), weights=c6_weights.T[1]) # -10\n",
    "hist2, bins = np.histogram(m4l, bins=60, range=(180,1000), weights=c6_weights.T[2]) # 10\n",
    "hist3, bins = np.histogram(m4l, bins=60, range=(180,1000), weights=c6_weights.T[0]) # -20\n",
    "hist4, bins = np.histogram(m4l, bins=60, range=(180,1000), weights=c6_weights.T[3]) # 20\n",
    "hist5, bins = np.histogram(m4l, bins=60, range=(180,1000), weights=c6_weights.T[4]) # 30\n",
    "\n",
    "fig, (ax1, ax2) = plt.subplots(2,1, gridspec_kw={'height_ratios': [4, 1]}, figsize=(6,7))\n",
    "\n",
    "ax1.set_xticklabels([])\n",
    "\n",
    "ax1.step(bins[:-1], hist, color='k', label=u'SM ($c_6=0$)', linestyle='--')\n",
    "ax1.step(bins[:-1], hist1, color='r', label=u'BSM ($c_6=-10$)')\n",
    "ax1.step(bins[:-1], hist2, color='b', label=u'BSM ($c_6=10$)')\n",
    "#ax1.step(bins[:-1], hist5, color='b', label=u'BSM ($c_6=30$)')\n",
    "\n",
    "ax1.set_ylabel('Number of events []')\n",
    "ax1.set_yscale('log')\n",
    "\n",
    "ax1.legend()\n",
    "\n",
    "\n",
    "ax2.step(bins[:-1], hist/hist, color='k', linestyle='--', label=u'SM ($c_6=0$)')\n",
    "ax2.step(bins[:-1], hist1/hist, color='r', label=u'BSM ($c_6=-10$)')\n",
    "ax2.step(bins[:-1], hist2/hist, color='b', label=u'BSM ($c_6=10$)')\n",
    "#ax2.step(bins[:-1], hist5/hist, color='b', label=u'BSM ($c_6=30$)')\n",
    "\n",
    "ax2.set_xlabel(u'$m_{4\\ell}$ [GeV]')\n",
    "ax2.set_ylabel('R []')\n",
    "ax2.set_ybound(0.99,1.02)\n",
    "\n",
    "fig.tight_layout()\n",
    "\n",
    "plt.show()"
   ]
  }
 ],
 "metadata": {
  "kernelspec": {
   "display_name": "Python 3",
   "language": "python",
   "name": "python3"
  },
  "language_info": {
   "name": "python",
   "version": "3.12.4"
  }
 },
 "nbformat": 4,
 "nbformat_minor": 2
}
