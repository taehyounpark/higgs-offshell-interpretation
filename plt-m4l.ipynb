{
 "cells": [
  {
   "cell_type": "code",
   "execution_count": 1,
   "metadata": {},
   "outputs": [
    {
     "ename": "ModuleNotFoundError",
     "evalue": "No module named 'tensorflow'",
     "output_type": "error",
     "traceback": [
      "\u001b[0;31m---------------------------------------------------------------------------\u001b[0m",
      "\u001b[0;31mModuleNotFoundError\u001b[0m                       Traceback (most recent call last)",
      "Cell \u001b[0;32mIn[1], line 3\u001b[0m\n\u001b[1;32m      1\u001b[0m \u001b[38;5;28;01mfrom\u001b[39;00m \u001b[38;5;21;01mhstar\u001b[39;00m \u001b[38;5;28;01mimport\u001b[39;00m process\n\u001b[1;32m      2\u001b[0m \u001b[38;5;28;01mfrom\u001b[39;00m \u001b[38;5;21;01mhstar\u001b[39;00m \u001b[38;5;28;01mimport\u001b[39;00m trilinear\n\u001b[0;32m----> 3\u001b[0m \u001b[38;5;28;01mfrom\u001b[39;00m \u001b[38;5;21;01mhzz\u001b[39;00m \u001b[38;5;28;01mimport\u001b[39;00m angles\n\u001b[1;32m      4\u001b[0m \u001b[38;5;28;01mfrom\u001b[39;00m \u001b[38;5;21;01mhzz\u001b[39;00m \u001b[38;5;28;01mimport\u001b[39;00m zcandidate\n\u001b[1;32m      6\u001b[0m \u001b[38;5;28;01mimport\u001b[39;00m \u001b[38;5;21;01mnumpy\u001b[39;00m \u001b[38;5;28;01mas\u001b[39;00m \u001b[38;5;21;01mnp\u001b[39;00m\n",
      "File \u001b[0;32m/raven/u/griesemx/ggZZ_work/higgs-offshell-interpretation/hzz/angles.py:4\u001b[0m\n\u001b[1;32m      2\u001b[0m \u001b[38;5;28;01mimport\u001b[39;00m \u001b[38;5;21;01mvector\u001b[39;00m\n\u001b[1;32m      3\u001b[0m \u001b[38;5;28;01mfrom\u001b[39;00m \u001b[38;5;21;01mvector\u001b[39;00m \u001b[38;5;28;01mimport\u001b[39;00m MomentumObject4D\n\u001b[0;32m----> 4\u001b[0m \u001b[38;5;28;01mimport\u001b[39;00m \u001b[38;5;21;01mtensorflow\u001b[39;00m \u001b[38;5;28;01mas\u001b[39;00m \u001b[38;5;21;01mtf\u001b[39;00m\n\u001b[1;32m      7\u001b[0m \u001b[38;5;28;01mdef\u001b[39;00m \u001b[38;5;21mcalculate\u001b[39m(l1: MomentumObject4D, l2: MomentumObject4D, l3: MomentumObject4D, l4: MomentumObject4D, tensorize: \u001b[38;5;28mbool\u001b[39m\u001b[38;5;241m=\u001b[39m\u001b[38;5;28;01mFalse\u001b[39;00m) \u001b[38;5;241m-\u001b[39m\u001b[38;5;241m>\u001b[39m np\u001b[38;5;241m.\u001b[39mndarray:\n\u001b[1;32m      8\u001b[0m     \u001b[38;5;124;03m\"\"\"\u001b[39;00m\n\u001b[1;32m      9\u001b[0m \u001b[38;5;124;03m    Calculates kinematic variables cos 𝜃∗, cos 𝜃1, cos 𝜃2, 𝜙1 ,𝜙, mZ1 and mZ2. \u001b[39;00m\n\u001b[1;32m     10\u001b[0m \u001b[38;5;124;03m    Angles used are described in https://journals.aps.org/prd/pdf/10.1103/PhysRevD.86.095031.\u001b[39;00m\n\u001b[0;32m   (...)\u001b[0m\n\u001b[1;32m     20\u001b[0m \u001b[38;5;124;03m        np.ndarray: The kinematic variables in form of [cos 𝜃∗, cos 𝜃1, cos 𝜃2, 𝜙1 ,𝜙, mZ1, mZ2].\u001b[39;00m\n\u001b[1;32m     21\u001b[0m \u001b[38;5;124;03m    \"\"\"\u001b[39;00m\n",
      "\u001b[0;31mModuleNotFoundError\u001b[0m: No module named 'tensorflow'"
     ]
    }
   ],
   "source": [
    "from hstar import process\n",
    "from hstar import trilinear\n",
    "from hzz import angles\n",
    "from hzz import zcandidate\n",
    "\n",
    "import numpy as np\n",
    "import matplotlib.pyplot as plt"
   ]
  },
  {
   "cell_type": "code",
   "execution_count": 2,
   "metadata": {},
   "outputs": [],
   "source": [
    "sample = process.Sample(weight='wt', \n",
    "    amplitude = process.Basis.SBI, components = {\n",
    "    process.Basis.SBI: 'msq_sbi_sm',\n",
    "    process.Basis.SIG: 'msq_sig_sm',\n",
    "    process.Basis.BKG: 'msq_bkg_sm',\n",
    "    process.Basis.INT: 'msq_int_sm'\n",
    "  })\n",
    "\n",
    "sample.open(csv = [\n",
    "  '../ggZZ2e2m_all_new.csv',\n",
    "  '../ggZZ4e_all_new.csv',\n",
    "  '../ggZZ4m_all_new.csv'\n",
    "  ], xs=[1.4783394, 0.47412769, 0.47412769],\n",
    "    lumi=3000., k=1.83, nrows=1000000\n",
    ")"
   ]
  },
  {
   "cell_type": "code",
   "execution_count": 3,
   "metadata": {},
   "outputs": [
    {
     "name": "stdout",
     "output_type": "stream",
     "text": [
      "Deleting refs p12, p23, p14, p34\n",
      "Deleting ref chi_sq\n",
      "Deleting ref cond\n",
      "Deleting refs pairs, lepton_pairs, closest_pair_indices, closest_pair, pT_max_ind, pT_min_ind\n",
      "0\n"
     ]
    },
    {
     "ename": "ValueError",
     "evalue": "too many values to unpack (expected 2)",
     "output_type": "error",
     "traceback": [
      "\u001b[0;31m---------------------------------------------------------------------------\u001b[0m",
      "\u001b[0;31mValueError\u001b[0m                                Traceback (most recent call last)",
      "Cell \u001b[0;32mIn[3], line 4\u001b[0m\n\u001b[1;32m      1\u001b[0m zmasses \u001b[38;5;241m=\u001b[39m zcandidate\u001b[38;5;241m.\u001b[39mZmassPairChooser(sample)\n\u001b[1;32m      2\u001b[0m leptons \u001b[38;5;241m=\u001b[39m zmasses\u001b[38;5;241m.\u001b[39mfind_Z()\n\u001b[0;32m----> 4\u001b[0m kinematics, legal_inds \u001b[38;5;241m=\u001b[39m angles\u001b[38;5;241m.\u001b[39mcalculate(leptons[:,\u001b[38;5;241m0\u001b[39m], leptons[:,\u001b[38;5;241m1\u001b[39m], leptons[:,\u001b[38;5;241m2\u001b[39m], leptons[:,\u001b[38;5;241m3\u001b[39m])\n\u001b[1;32m      6\u001b[0m kinematics \u001b[38;5;241m=\u001b[39m kinematics[legal_inds]\n\u001b[1;32m      7\u001b[0m zmasses\u001b[38;5;241m.\u001b[39mdf \u001b[38;5;241m=\u001b[39m zmasses\u001b[38;5;241m.\u001b[39mdf\u001b[38;5;241m.\u001b[39mtake(legal_inds)\n",
      "\u001b[0;31mValueError\u001b[0m: too many values to unpack (expected 2)"
     ]
    }
   ],
   "source": [
    "zmasses = zcandidate.ZmassPairChooser(sample)\n",
    "leptons = zmasses.find_Z()\n",
    "\n",
    "kinematics, legal_inds = angles.calculate(leptons[:,0], leptons[:,1], leptons[:,2], leptons[:,3])\n",
    "\n",
    "kinematics = kinematics[legal_inds]\n",
    "zmasses.df = zmasses.df.take(legal_inds)\n",
    "zmasses.sample.events = zmasses.df\n",
    "\n",
    "leptons = leptons[legal_inds]\n",
    "\n",
    "c6_mod = trilinear.Modifier(c6_values = [-5,-1,0,1,5], c6_amplitudes = ['msq_sbi_c6_6', 'msq_sbi_c6_10', 'msq_sbi_c6_11', 'msq_sbi_c6_12', 'msq_sbi_c6_16'])\n",
    "c6_weights = c6_mod.modify(sample=zmasses.sample, c6=[-20,-10,10,20,30])"
   ]
  },
  {
   "cell_type": "code",
   "execution_count": null,
   "metadata": {},
   "outputs": [],
   "source": [
    "m4l = (leptons[:,0] + leptons[:,1] + leptons[:,2] + leptons[:,3]).mass\n",
    "m4l = zmasses.m4l[legal_inds]\n",
    "\n",
    "hist, bins = np.histogram(m4l, bins=60, range=(180,1000), weights=zmasses.sample.events['wt'])\n",
    "hist1, bins = np.histogram(m4l, bins=60, range=(180,1000), weights=c6_weights.T[1]) # -10\n",
    "hist2, bins = np.histogram(m4l, bins=60, range=(180,1000), weights=c6_weights.T[2]) # 10\n",
    "hist3, bins = np.histogram(m4l, bins=60, range=(180,1000), weights=c6_weights.T[0]) # -20\n",
    "hist4, bins = np.histogram(m4l, bins=60, range=(180,1000), weights=c6_weights.T[3]) # 20\n",
    "hist5, bins = np.histogram(m4l, bins=60, range=(180,1000), weights=c6_weights.T[4]) # 30\n",
    "\n",
    "fig, (ax1, ax2) = plt.subplots(2,1, gridspec_kw={'height_ratios': [4, 1]}, figsize=(6,7))\n",
    "\n",
    "ax1.set_xticklabels([])\n",
    "\n",
    "ax1.step(bins[:-1], hist, color='k', label=u'SM ($c_6=0$)', linestyle='--')\n",
    "ax1.step(bins[:-1], hist1, color='r', label=u'BSM ($c_6=-10$)')\n",
    "ax1.step(bins[:-1], hist2, color='b', label=u'BSM ($c_6=10$)')\n",
    "#ax1.step(bins[:-1], hist5, color='b', label=u'BSM ($c_6=30$)')\n",
    "\n",
    "ax1.set_ylabel('Number of events []')\n",
    "ax1.set_yscale('log')\n",
    "\n",
    "ax1.legend()\n",
    "\n",
    "\n",
    "ax2.step(bins[:-1], hist/hist, color='k', linestyle='--', label=u'SM ($c_6=0$)')\n",
    "ax2.step(bins[:-1], hist1/hist, color='r', label=u'BSM ($c_6=-10$)')\n",
    "ax2.step(bins[:-1], hist2/hist, color='b', label=u'BSM ($c_6=10$)')\n",
    "#ax2.step(bins[:-1], hist5/hist, color='b', label=u'BSM ($c_6=30$)')\n",
    "\n",
    "ax2.set_xlabel(u'$m_{4\\ell}$ [GeV]')\n",
    "ax2.set_ylabel('R []')\n",
    "ax2.set_ybound(0.99,1.02)\n",
    "\n",
    "fig.tight_layout()\n",
    "\n",
    "plt.show()"
   ]
  }
 ],
 "metadata": {
  "kernelspec": {
   "display_name": "venv",
   "language": "python",
   "name": "python3"
  },
  "language_info": {
   "codemirror_mode": {
    "name": "ipython",
    "version": 3
   },
   "file_extension": ".py",
   "mimetype": "text/x-python",
   "name": "python",
   "nbconvert_exporter": "python",
   "pygments_lexer": "ipython3",
   "version": "3.10.9"
  }
 },
 "nbformat": 4,
 "nbformat_minor": 2
}
