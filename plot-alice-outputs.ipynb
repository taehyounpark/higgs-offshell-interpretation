{
 "cells": [
  {
   "cell_type": "code",
   "execution_count": 23,
   "metadata": {},
   "outputs": [],
   "source": [
    "import tensorflow as tf\n",
    "from tensorflow import keras\n",
    "\n",
    "from nn.alice import dataset, model\n",
    "from physics.hstar import gghzz, c6\n",
    "from physics.simulation import msq\n",
    "from physics.hzz import zpair, angles\n",
    "\n",
    "import os\n",
    "import json\n",
    "import numpy as np\n",
    "import matplotlib.pyplot as plt\n",
    "\n",
    "import hist\n",
    "\n",
    "from sklearn.preprocessing import MinMaxScaler"
   ]
  },
  {
   "cell_type": "code",
   "execution_count": 24,
   "metadata": {},
   "outputs": [],
   "source": [
    "SEED=373485\n",
    "\n",
    "BASE_SIZE=100000\n",
    "\n",
    "OUTPUT_DIR='jobs/alice/run-one-sbi-check'\n",
    "CONF_FILE='alice-config.json'\n",
    "SCALER_CONF='scaler.json'\n",
    "SAMPLE_DIR='..'"
   ]
  },
  {
   "cell_type": "code",
   "execution_count": 25,
   "metadata": {},
   "outputs": [],
   "source": [
    "with open(os.path.join(OUTPUT_DIR, CONF_FILE), 'r') as conf_file:\n",
    "    config = json.load(conf_file)"
   ]
  },
  {
   "cell_type": "code",
   "execution_count": 26,
   "metadata": {},
   "outputs": [],
   "source": [
    "sample_train = gghzz.Process(msq.Component.SBI, (1.5, os.path.join(SAMPLE_DIR, 'ggZZ2e2m_sbi.csv'), 1.2*BASE_SIZE))\n",
    "sample_val = gghzz.Process(msq.Component.SBI, (1.5, os.path.join(SAMPLE_DIR, 'ggZZ2e2m_sbi.csv'), config['num_events'] + 1.2*BASE_SIZE))\n",
    "sample_val.events = sample_val.events[config['num_events']:]"
   ]
  },
  {
   "cell_type": "code",
   "execution_count": 27,
   "metadata": {},
   "outputs": [],
   "source": [
    "z_chooser = zpair.ZPairChooser(bounds1=(70,115), bounds2=(70,115), algorithm='leastsquare')\n",
    "kin_vars_train = angles.calculate_2(*sample_train.events.filter(z_chooser))\n",
    "kin_vars_val = angles.calculate_2(*sample_val.events.filter(z_chooser))\n",
    "\n",
    "sample_train.events = sample_train.events[:BASE_SIZE]\n",
    "kin_vars_train = kin_vars_train[:BASE_SIZE]\n",
    "sample_val.events = sample_val.events[:BASE_SIZE]\n",
    "kin_vars_val = kin_vars_val[:BASE_SIZE]"
   ]
  },
  {
   "cell_type": "code",
   "execution_count": 28,
   "metadata": {},
   "outputs": [],
   "source": [
    "c6_values = [-20,-10,0,10,20]\n",
    "\n",
    "c6_mod_train = c6.Modifier(baseline = msq.Component.SBI, sample=sample_train, c6_values = [-5,-1,0,1,5])\n",
    "c6_weights_train, c6_prob_train = c6_mod_train.modify(c6=c6_values)\n",
    "\n",
    "c6_mod_val = c6.Modifier(baseline = msq.Component.SBI, sample=sample_train, c6_values = [-5,-1,0,1,5])\n",
    "c6_weights_val, c6_prob_val = c6_mod_val.modify(c6=c6_values)"
   ]
  },
  {
   "cell_type": "code",
   "execution_count": 29,
   "metadata": {},
   "outputs": [],
   "source": [
    "train_set = dataset.build_dataset(x_arr=kin_vars_train, \n",
    "                                  param_values=c6_values, \n",
    "                                  signal_probabilities=c6_weights_train, \n",
    "                                  background_probabilities=sample_train.events.weights)\n",
    "val_set = dataset.build_dataset(x_arr=kin_vars_val, \n",
    "                                param_values=c6_values, \n",
    "                                signal_probabilities=c6_weights_val, \n",
    "                                background_probabilities=sample_val.events.weights)"
   ]
  },
  {
   "cell_type": "code",
   "execution_count": 30,
   "metadata": {},
   "outputs": [],
   "source": [
    "with open(os.path.join(OUTPUT_DIR, SCALER_CONF), 'r') as conf_file:\n",
    "    scaler_conf = json.load(conf_file)"
   ]
  },
  {
   "cell_type": "code",
   "execution_count": 31,
   "metadata": {},
   "outputs": [],
   "source": [
    "scaler = MinMaxScaler()\n",
    "scaler.min_ = scaler_conf['scaler.min_']\n",
    "scaler.scale_ = scaler_conf['scaler.scale_']\n",
    "\n",
    "train_set = tf.concat([scaler.transform(train_set[:,:10]), train_set[:,10:]], axis=1)\n",
    "val_set = tf.concat([scaler.transform(val_set[:,:10]), val_set[:,10:]], axis=1)"
   ]
  },
  {
   "cell_type": "code",
   "execution_count": 32,
   "metadata": {},
   "outputs": [
    {
     "name": "stdout",
     "output_type": "stream",
     "text": [
      "tf.Tensor(\n",
      "[1.3554692e-01 1.0560543e-01 8.8412839e-01 9.0740329e-01 6.4314938e-01\n",
      " 4.3273693e-01 6.9665396e-01 3.3030722e-02 4.8322934e-01 0.0000000e+00\n",
      " 5.0895286e-01 1.8336519e-05], shape=(12,), dtype=float32)\n"
     ]
    }
   ],
   "source": [
    "print(train_set[0])"
   ]
  },
  {
   "cell_type": "code",
   "execution_count": 33,
   "metadata": {},
   "outputs": [],
   "source": [
    "rolr_model = model.load(os.path.join(OUTPUT_DIR, 'checkpoint.model.tf'))"
   ]
  },
  {
   "cell_type": "code",
   "execution_count": 34,
   "metadata": {},
   "outputs": [
    {
     "name": "stdout",
     "output_type": "stream",
     "text": [
      "15625/15625 [==============================] - 27s 2ms/step\n",
      "15625/15625 [==============================] - 26s 2ms/step\n"
     ]
    }
   ],
   "source": [
    "predictions_train = rolr_model.predict(train_set[:,:10])\n",
    "predictions_val = rolr_model.predict(val_set[:,:10])"
   ]
  },
  {
   "cell_type": "code",
   "execution_count": 35,
   "metadata": {},
   "outputs": [],
   "source": [
    "pred_train_per_c6 = {c6_values[i]: predictions_train[i*BASE_SIZE:(i+1)*BASE_SIZE] for i in range(len(c6_values))}\n",
    "data_train_per_c6 = {c6_values[i]: train_set[i*BASE_SIZE:(i+1)*BASE_SIZE] for i in range(len(c6_values))}\n",
    "\n",
    "pred_val_per_c6 = {c6_values[i]: predictions_val[i*BASE_SIZE:(i+1)*BASE_SIZE] for i in range(len(c6_values))}\n",
    "data_val_per_c6 = {c6_values[i]: val_set[i*BASE_SIZE:(i+1)*BASE_SIZE] for i in range(len(c6_values))}"
   ]
  },
  {
   "cell_type": "code",
   "execution_count": 36,
   "metadata": {},
   "outputs": [],
   "source": [
    "def generate_histograms(c6_values, data_train_per_c6, pred_train_per_c6, data_val_per_c6, pred_val_per_c6, num_bins):\n",
    "    histograms = []\n",
    "    for c6 in c6_values:\n",
    "        hist_train = hist.Hist(hist.axis.Regular(num_bins, 0, 1, name='x', label='NN output []'))\n",
    "        hist_train.fill(tf.squeeze(pred_train_per_c6[c6], axis=1), weight=data_train_per_c6[c6][:,-1])\n",
    "\n",
    "        hist_val = hist.Hist(hist.axis.Regular(num_bins, 0, 1, name='x', label='NN output []'))\n",
    "        hist_val.fill(tf.squeeze(pred_val_per_c6[c6], axis=1), weight=data_val_per_c6[c6][:,-1])\n",
    "\n",
    "        hist_true = hist.Hist(hist.axis.Regular(num_bins, 0, 1, name='x', label='NN output []'))\n",
    "        hist_true.fill(data_train_per_c6[c6][:,-2], weight=data_train_per_c6[c6][:,-1])\n",
    "\n",
    "        histograms.append((hist_train.to_numpy(), hist_val.to_numpy(), hist_true.to_numpy()))\n",
    "    \n",
    "    return histograms"
   ]
  },
  {
   "cell_type": "code",
   "execution_count": 37,
   "metadata": {},
   "outputs": [],
   "source": [
    "def plot_histograms(c6_values, histograms, colors, xlim=(0.2,0.8)):\n",
    "    fig = plt.figure(figsize=(7,6))\n",
    "\n",
    "    for i in range(len(c6_values)):\n",
    "        plt.step(histograms[i][2][1][1:], histograms[i][2][0], color=colors[i], linestyle='--', label=f'truth (c6={c6_values[i]})', alpha=0.6)\n",
    "        plt.step(histograms[i][0][1][1:], histograms[i][0][0], color=colors[i], label=f'training data (c6={c6_values[i]})', alpha=0.6)\n",
    "        plt.scatter(histograms[i][1][1][1:], histograms[i][1][0], s=20, color=colors[i], label=f'validation data (c6={c6_values[i]})', alpha=0.6)\n",
    "\n",
    "    plt.xlabel('NN output []')\n",
    "    plt.ylabel('Percentage of predictions []')\n",
    "    plt.legend()\n",
    "    plt.xlim(xlim[0],xlim[1])\n",
    "    plt.yscale('log')\n",
    "\n",
    "    plt.show()"
   ]
  },
  {
   "cell_type": "code",
   "execution_count": null,
   "metadata": {},
   "outputs": [
    {
     "name": "stdout",
     "output_type": "stream",
     "text": [
      "(100000,)\n",
      "(100000, 1)\n"
     ]
    },
    {
     "data": {
      "image/png": "[encoded data removed]",
      "text/plain": [
       "<Figure size 700x600 with 1 Axes>"
      ]
     },
     "metadata": {},
     "output_type": "display_data"
    }
   ],
   "source": [
    "BINS = 80\n",
    "\n",
    "c6_vals = [10]\n",
    "colors = ['limegreen']\n",
    "\n",
    "print(data_train_per_c6[-10][:,-2].shape)\n",
    "print(pred_train_per_c6[-10].shape)\n",
    "\n",
    "histograms = generate_histograms(c6_vals, data_train_per_c6, pred_train_per_c6, data_val_per_c6, pred_val_per_c6, BINS)\n",
    "\n",
    "plot_histograms(c6_vals, histograms, colors, xlim=(0,1.0))"
   ]
  },
  {
   "cell_type": "code",
   "execution_count": 39,
   "metadata": {},
   "outputs": [
    {
     "ename": "FileNotFoundError",
     "evalue": "[Errno 2] No such file or directory: 'jobs/alice/run-one-sbi-check/history.txt'",
     "output_type": "error",
     "traceback": [
      "\u001b[0;31m---------------------------------------------------------------------------\u001b[0m",
      "\u001b[0;31mFileNotFoundError\u001b[0m                         Traceback (most recent call last)",
      "Cell \u001b[0;32mIn[39], line 3\u001b[0m\n\u001b[1;32m      1\u001b[0m hist_prm \u001b[38;5;241m=\u001b[39m \u001b[38;5;124m'\u001b[39m\u001b[38;5;124m'\u001b[39m\n\u001b[0;32m----> 3\u001b[0m \u001b[38;5;28;01mwith\u001b[39;00m \u001b[38;5;28;43mopen\u001b[39;49m\u001b[43m(\u001b[49m\u001b[43mos\u001b[49m\u001b[38;5;241;43m.\u001b[39;49m\u001b[43mpath\u001b[49m\u001b[38;5;241;43m.\u001b[39;49m\u001b[43mjoin\u001b[49m\u001b[43m(\u001b[49m\u001b[43mOUTPUT_DIR\u001b[49m\u001b[43m,\u001b[49m\u001b[43m \u001b[49m\u001b[38;5;124;43m'\u001b[39;49m\u001b[38;5;124;43mhistory.txt\u001b[39;49m\u001b[38;5;124;43m'\u001b[39;49m\u001b[43m)\u001b[49m\u001b[43m,\u001b[49m\u001b[43m \u001b[49m\u001b[38;5;124;43m'\u001b[39;49m\u001b[38;5;124;43mr\u001b[39;49m\u001b[38;5;124;43m'\u001b[39;49m\u001b[43m)\u001b[49m \u001b[38;5;28;01mas\u001b[39;00m hist_file:\n\u001b[1;32m      4\u001b[0m     hist_prm \u001b[38;5;241m=\u001b[39m hist_file\u001b[38;5;241m.\u001b[39mreadlines()\n\u001b[1;32m      6\u001b[0m hist_prm \u001b[38;5;241m=\u001b[39m [ np\u001b[38;5;241m.\u001b[39marray(el\u001b[38;5;241m.\u001b[39mreplace(\u001b[38;5;124m'\u001b[39m\u001b[38;5;124m[\u001b[39m\u001b[38;5;124m'\u001b[39m,\u001b[38;5;124m'\u001b[39m\u001b[38;5;124m'\u001b[39m)\u001b[38;5;241m.\u001b[39mreplace(\u001b[38;5;124m'\u001b[39m\u001b[38;5;124m]\u001b[39m\u001b[38;5;124m'\u001b[39m,\u001b[38;5;124m'\u001b[39m\u001b[38;5;124m'\u001b[39m)\u001b[38;5;241m.\u001b[39mreplace(\u001b[38;5;124m'\u001b[39m\u001b[38;5;124m \u001b[39m\u001b[38;5;124m'\u001b[39m,\u001b[38;5;124m'\u001b[39m\u001b[38;5;124m'\u001b[39m)\u001b[38;5;241m.\u001b[39msplit(\u001b[38;5;124m'\u001b[39m\u001b[38;5;124m,\u001b[39m\u001b[38;5;124m'\u001b[39m), dtype\u001b[38;5;241m=\u001b[39m\u001b[38;5;28mfloat\u001b[39m) \u001b[38;5;28;01mfor\u001b[39;00m el \u001b[38;5;129;01min\u001b[39;00m hist_prm[\u001b[38;5;241m0\u001b[39m]\u001b[38;5;241m.\u001b[39msplit(\u001b[38;5;124m'\u001b[39m\u001b[38;5;124m][\u001b[39m\u001b[38;5;124m'\u001b[39m)]\n",
      "File \u001b[0;32m~/git/ggZZ_work/venv_tf/lib/python3.10/site-packages/IPython/core/interactiveshell.py:324\u001b[0m, in \u001b[0;36m_modified_open\u001b[0;34m(file, *args, **kwargs)\u001b[0m\n\u001b[1;32m    317\u001b[0m \u001b[38;5;28;01mif\u001b[39;00m file \u001b[38;5;129;01min\u001b[39;00m {\u001b[38;5;241m0\u001b[39m, \u001b[38;5;241m1\u001b[39m, \u001b[38;5;241m2\u001b[39m}:\n\u001b[1;32m    318\u001b[0m     \u001b[38;5;28;01mraise\u001b[39;00m \u001b[38;5;167;01mValueError\u001b[39;00m(\n\u001b[1;32m    319\u001b[0m         \u001b[38;5;124mf\u001b[39m\u001b[38;5;124m\"\u001b[39m\u001b[38;5;124mIPython won\u001b[39m\u001b[38;5;124m'\u001b[39m\u001b[38;5;124mt let you open fd=\u001b[39m\u001b[38;5;132;01m{\u001b[39;00mfile\u001b[38;5;132;01m}\u001b[39;00m\u001b[38;5;124m by default \u001b[39m\u001b[38;5;124m\"\u001b[39m\n\u001b[1;32m    320\u001b[0m         \u001b[38;5;124m\"\u001b[39m\u001b[38;5;124mas it is likely to crash IPython. If you know what you are doing, \u001b[39m\u001b[38;5;124m\"\u001b[39m\n\u001b[1;32m    321\u001b[0m         \u001b[38;5;124m\"\u001b[39m\u001b[38;5;124myou can use builtins\u001b[39m\u001b[38;5;124m'\u001b[39m\u001b[38;5;124m open.\u001b[39m\u001b[38;5;124m\"\u001b[39m\n\u001b[1;32m    322\u001b[0m     )\n\u001b[0;32m--> 324\u001b[0m \u001b[38;5;28;01mreturn\u001b[39;00m \u001b[43mio_open\u001b[49m\u001b[43m(\u001b[49m\u001b[43mfile\u001b[49m\u001b[43m,\u001b[49m\u001b[43m \u001b[49m\u001b[38;5;241;43m*\u001b[39;49m\u001b[43margs\u001b[49m\u001b[43m,\u001b[49m\u001b[43m \u001b[49m\u001b[38;5;241;43m*\u001b[39;49m\u001b[38;5;241;43m*\u001b[39;49m\u001b[43mkwargs\u001b[49m\u001b[43m)\u001b[49m\n",
      "\u001b[0;31mFileNotFoundError\u001b[0m: [Errno 2] No such file or directory: 'jobs/alice/run-one-sbi-check/history.txt'"
     ]
    }
   ],
   "source": [
    "hist_prm = ''\n",
    "\n",
    "with open(os.path.join(OUTPUT_DIR, 'history.txt'), 'r') as hist_file:\n",
    "    hist_prm = hist_file.readlines()\n",
    "\n",
    "hist_prm = [ np.array(el.replace('[','').replace(']','').replace(' ','').split(','), dtype=float) for el in hist_prm[0].split('][')]\n",
    "\n",
    "t_loss_prm = np.array(hist_prm[0])\n",
    "v_loss_prm = np.array(hist_prm[1])\n",
    "\n",
    "epochs = range(1,t_loss_prm.shape[0]+1)\n",
    "\n",
    "fig = plt.figure(figsize=(8,6))\n",
    "\n",
    "#ax1.set_xticklabels([])\n",
    "\n",
    "plt.plot(epochs, t_loss_prm, 'b', label='Training loss')\n",
    "plt.xlabel('epochs []')\n",
    "plt.ylabel(f'loss []')\n",
    "#ax2.legend()\n",
    "\n",
    "plt.plot(epochs, v_loss_prm, 'r', label='Validation loss')\n",
    "#ax1.set_ylabel('loss []')\n",
    "plt.legend()\n",
    "\n",
    "fig.tight_layout()\n",
    "\n",
    "plt.show()"
   ]
  },
  {
   "cell_type": "code",
   "execution_count": null,
   "metadata": {},
   "outputs": [
    {
     "data": {
      "image/png": "[encoded data removed]",
      "text/plain": [
       "<Figure size 800x600 with 1 Axes>"
      ]
     },
     "metadata": {},
     "output_type": "display_data"
    }
   ],
   "source": [
    "JOB_ID = 14266437\n",
    "\n",
    "JOB_OUT_FILE = os.path.join(OUTPUT_DIR, 'logs', 'job.out.' + str(JOB_ID))\n",
    "\n",
    "import re\n",
    "\n",
    "with open(JOB_OUT_FILE, 'r') as log_file:\n",
    "    logs = ''.join(log_file.readlines())\n",
    "\n",
    "t_loss = np.array(re.findall(\"\\ loss:\\ ([0-9]\\.[0-9]+e?-?[0-9]*)\\ -\", logs)).astype(np.float32)\n",
    "v_loss = np.array(re.findall(\"\\ val_loss:\\ ([0-9]\\.[0-9]+e?-?[0-9]*)\\ -\", logs)).astype(np.float32)\n",
    "\n",
    "epochs = range(1,t_loss.shape[0]+1)\n",
    "\n",
    "fig = plt.figure(figsize=(8,6))\n",
    "\n",
    "#ax1.set_xticklabels([])\n",
    "\n",
    "plt.plot(epochs, t_loss, 'b', label='Training loss')\n",
    "plt.xlabel('epochs []')\n",
    "plt.ylabel(f'loss []')\n",
    "#ax2.legend()\n",
    "\n",
    "plt.plot(epochs, v_loss, 'r', label='Validation loss')\n",
    "#ax1.set_ylabel('loss []')\n",
    "plt.legend()\n",
    "\n",
    "fig.tight_layout()\n",
    "\n",
    "plt.show()"
   ]
  }
 ],
 "metadata": {
  "kernelspec": {
   "display_name": "venv_tf",
   "language": "python",
   "name": "python3"
  },
  "language_info": {
   "codemirror_mode": {
    "name": "ipython",
    "version": 3
   },
   "file_extension": ".py",
   "mimetype": "text/x-python",
   "name": "python",
   "nbconvert_exporter": "python",
   "pygments_lexer": "ipython3",
   "version": "3.10.9"
  }
 },
 "nbformat": 4,
 "nbformat_minor": 2
}
