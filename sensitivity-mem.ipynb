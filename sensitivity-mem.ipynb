{
 "cells": [
  {
   "cell_type": "markdown",
   "metadata": {},
   "source": [
    "# Matrix Element / Optimal Observable method"
   ]
  },
  {
   "cell_type": "code",
   "execution_count": 1,
   "metadata": {},
   "outputs": [],
   "source": [
    "# third-party modules\n",
    "import numpy as np\n",
    "import pandas as pd\n",
    "import matplotlib.pyplot as plt\n",
    "import importlib\n",
    "from scipy.stats import poisson\n",
    "\n",
    "# custom modules\n",
    "from hstar import c6\n",
    "from inference import stat"
   ]
  },
  {
   "cell_type": "code",
   "execution_count": 2,
   "metadata": {},
   "outputs": [
    {
     "data": {
      "text/html": [
       "<div>\n",
       "<style scoped>\n",
       "    .dataframe tbody tr th:only-of-type {\n",
       "        vertical-align: middle;\n",
       "    }\n",
       "\n",
       "    .dataframe tbody tr th {\n",
       "        vertical-align: top;\n",
       "    }\n",
       "\n",
       "    .dataframe thead th {\n",
       "        text-align: right;\n",
       "    }\n",
       "</style>\n",
       "<table border=\"1\" class=\"dataframe\">\n",
       "  <thead>\n",
       "    <tr style=\"text-align: right;\">\n",
       "      <th></th>\n",
       "      <th>evtnum</th>\n",
       "      <th>p1_px</th>\n",
       "      <th>p1_py</th>\n",
       "      <th>p1_pz</th>\n",
       "      <th>p1_E</th>\n",
       "      <th>p2_px</th>\n",
       "      <th>p2_py</th>\n",
       "      <th>p2_pz</th>\n",
       "      <th>p2_E</th>\n",
       "      <th>p3_px</th>\n",
       "      <th>...</th>\n",
       "      <th>msq_c6_14</th>\n",
       "      <th>msq_c6_15</th>\n",
       "      <th>msq_c6_16</th>\n",
       "      <th>msq_c6_17</th>\n",
       "      <th>msq_c6_18</th>\n",
       "      <th>msq_c6_19</th>\n",
       "      <th>msq_c6_20</th>\n",
       "      <th>msq_c6_21</th>\n",
       "      <th>msq_sm</th>\n",
       "      <th>wt</th>\n",
       "    </tr>\n",
       "  </thead>\n",
       "  <tbody>\n",
       "    <tr>\n",
       "      <th>0</th>\n",
       "      <td>0</td>\n",
       "      <td>0.0</td>\n",
       "      <td>0.0</td>\n",
       "      <td>-253.25920</td>\n",
       "      <td>-253.25920</td>\n",
       "      <td>0.0</td>\n",
       "      <td>0.0</td>\n",
       "      <td>43.80087</td>\n",
       "      <td>-43.80087</td>\n",
       "      <td>3.418067</td>\n",
       "      <td>...</td>\n",
       "      <td>1.311460e-08</td>\n",
       "      <td>1.311711e-08</td>\n",
       "      <td>1.312060e-08</td>\n",
       "      <td>1.312512e-08</td>\n",
       "      <td>1.313072e-08</td>\n",
       "      <td>1.313747e-08</td>\n",
       "      <td>1.314548e-08</td>\n",
       "      <td>1.315483e-08</td>\n",
       "      <td>1.311264e-08</td>\n",
       "      <td>0.001402</td>\n",
       "    </tr>\n",
       "    <tr>\n",
       "      <th>1</th>\n",
       "      <td>1</td>\n",
       "      <td>0.0</td>\n",
       "      <td>0.0</td>\n",
       "      <td>-105.41780</td>\n",
       "      <td>-105.41780</td>\n",
       "      <td>0.0</td>\n",
       "      <td>0.0</td>\n",
       "      <td>83.06607</td>\n",
       "      <td>-83.06607</td>\n",
       "      <td>-33.927600</td>\n",
       "      <td>...</td>\n",
       "      <td>1.624623e-08</td>\n",
       "      <td>1.624879e-08</td>\n",
       "      <td>1.625244e-08</td>\n",
       "      <td>1.625720e-08</td>\n",
       "      <td>1.626311e-08</td>\n",
       "      <td>1.627022e-08</td>\n",
       "      <td>1.627859e-08</td>\n",
       "      <td>1.628827e-08</td>\n",
       "      <td>1.624494e-08</td>\n",
       "      <td>0.001324</td>\n",
       "    </tr>\n",
       "    <tr>\n",
       "      <th>2</th>\n",
       "      <td>2</td>\n",
       "      <td>0.0</td>\n",
       "      <td>0.0</td>\n",
       "      <td>-176.49030</td>\n",
       "      <td>-176.49030</td>\n",
       "      <td>0.0</td>\n",
       "      <td>0.0</td>\n",
       "      <td>69.49255</td>\n",
       "      <td>-69.49255</td>\n",
       "      <td>-23.966820</td>\n",
       "      <td>...</td>\n",
       "      <td>5.646427e-09</td>\n",
       "      <td>5.647883e-09</td>\n",
       "      <td>5.649893e-09</td>\n",
       "      <td>5.652477e-09</td>\n",
       "      <td>5.655658e-09</td>\n",
       "      <td>5.659462e-09</td>\n",
       "      <td>5.663923e-09</td>\n",
       "      <td>5.669079e-09</td>\n",
       "      <td>5.645296e-09</td>\n",
       "      <td>0.001726</td>\n",
       "    </tr>\n",
       "    <tr>\n",
       "      <th>3</th>\n",
       "      <td>3</td>\n",
       "      <td>0.0</td>\n",
       "      <td>0.0</td>\n",
       "      <td>-73.21253</td>\n",
       "      <td>-73.21253</td>\n",
       "      <td>0.0</td>\n",
       "      <td>0.0</td>\n",
       "      <td>435.57040</td>\n",
       "      <td>-435.57040</td>\n",
       "      <td>32.089890</td>\n",
       "      <td>...</td>\n",
       "      <td>9.708751e-11</td>\n",
       "      <td>9.714519e-11</td>\n",
       "      <td>9.723117e-11</td>\n",
       "      <td>9.734593e-11</td>\n",
       "      <td>9.749014e-11</td>\n",
       "      <td>9.766467e-11</td>\n",
       "      <td>9.787056e-11</td>\n",
       "      <td>9.810907e-11</td>\n",
       "      <td>9.708228e-11</td>\n",
       "      <td>0.009405</td>\n",
       "    </tr>\n",
       "    <tr>\n",
       "      <th>4</th>\n",
       "      <td>4</td>\n",
       "      <td>0.0</td>\n",
       "      <td>0.0</td>\n",
       "      <td>-395.79670</td>\n",
       "      <td>-395.79670</td>\n",
       "      <td>0.0</td>\n",
       "      <td>0.0</td>\n",
       "      <td>24.94625</td>\n",
       "      <td>-24.94625</td>\n",
       "      <td>-50.250540</td>\n",
       "      <td>...</td>\n",
       "      <td>7.705212e-09</td>\n",
       "      <td>7.707123e-09</td>\n",
       "      <td>7.709840e-09</td>\n",
       "      <td>7.713385e-09</td>\n",
       "      <td>7.717782e-09</td>\n",
       "      <td>7.723063e-09</td>\n",
       "      <td>7.729268e-09</td>\n",
       "      <td>7.736440e-09</td>\n",
       "      <td>7.704206e-09</td>\n",
       "      <td>0.006188</td>\n",
       "    </tr>\n",
       "  </tbody>\n",
       "</table>\n",
       "<p>5 rows × 48 columns</p>\n",
       "</div>"
      ],
      "text/plain": [
       "   evtnum  p1_px  p1_py      p1_pz       p1_E  p2_px  p2_py      p2_pz  \\\n",
       "0       0    0.0    0.0 -253.25920 -253.25920    0.0    0.0   43.80087   \n",
       "1       1    0.0    0.0 -105.41780 -105.41780    0.0    0.0   83.06607   \n",
       "2       2    0.0    0.0 -176.49030 -176.49030    0.0    0.0   69.49255   \n",
       "3       3    0.0    0.0  -73.21253  -73.21253    0.0    0.0  435.57040   \n",
       "4       4    0.0    0.0 -395.79670 -395.79670    0.0    0.0   24.94625   \n",
       "\n",
       "        p2_E      p3_px  ...     msq_c6_14     msq_c6_15     msq_c6_16  \\\n",
       "0  -43.80087   3.418067  ...  1.311460e-08  1.311711e-08  1.312060e-08   \n",
       "1  -83.06607 -33.927600  ...  1.624623e-08  1.624879e-08  1.625244e-08   \n",
       "2  -69.49255 -23.966820  ...  5.646427e-09  5.647883e-09  5.649893e-09   \n",
       "3 -435.57040  32.089890  ...  9.708751e-11  9.714519e-11  9.723117e-11   \n",
       "4  -24.94625 -50.250540  ...  7.705212e-09  7.707123e-09  7.709840e-09   \n",
       "\n",
       "      msq_c6_17     msq_c6_18     msq_c6_19     msq_c6_20     msq_c6_21  \\\n",
       "0  1.312512e-08  1.313072e-08  1.313747e-08  1.314548e-08  1.315483e-08   \n",
       "1  1.625720e-08  1.626311e-08  1.627022e-08  1.627859e-08  1.628827e-08   \n",
       "2  5.652477e-09  5.655658e-09  5.659462e-09  5.663923e-09  5.669079e-09   \n",
       "3  9.734593e-11  9.749014e-11  9.766467e-11  9.787056e-11  9.810907e-11   \n",
       "4  7.713385e-09  7.717782e-09  7.723063e-09  7.729268e-09  7.736440e-09   \n",
       "\n",
       "         msq_sm        wt  \n",
       "0  1.311264e-08  0.001402  \n",
       "1  1.624494e-08  0.001324  \n",
       "2  5.645296e-09  0.001726  \n",
       "3  9.708228e-11  0.009405  \n",
       "4  7.704206e-09  0.006188  \n",
       "\n",
       "[5 rows x 48 columns]"
      ]
     },
     "execution_count": 2,
     "metadata": {},
     "output_type": "execute_result"
    }
   ],
   "source": [
    "importlib.reload(c6)\n",
    "\n",
    "# total luminosity (fb^-1)\n",
    "lumi = 300.0\n",
    "\n",
    "# read events of each sample\n",
    "filepath = 'data/samples/ggZZ_all/events.csv'\n",
    "events = pd.read_csv(filepath,nrows=1000000)\n",
    "ggzz = c6.Sample(k=1.83, xs=1.4783394 * 4, events=events) # cross-section x k-factor x 4l channels (ignoring interference for now) [fb]\n",
    "ggzz.normalize(lumi)\n",
    "ggzz.events.head()"
   ]
  },
  {
   "cell_type": "markdown",
   "metadata": {},
   "source": [
    "## $ OO_{c_6} = p(c_6) / p_{\\mathrm{SM}} $\n",
    "\n",
    "The idea of a parametrized optimal observable is to take the density ratio\n",
    "\n",
    "$$ OO_{c_6} = p(x_i | c_6) / p_{\\mathrm{SM}}(x_i), $$\n",
    "\n",
    "which should be the definition of a summary statistic that is has the most statistical power to distinguish between the two hypotheses at the given $c_6$ value.\n",
    "This observable is binned into a histogram for multiple datasets, each generated under a range of $c_6$-hypotheses, as follows:\n",
    "\n",
    "- The computation of the probability ratio for each event in the dataset under a given $c_6$-hypothesis follows [`sensitivity-unbinnned.ipynb`](sensitivity-mem.ipynb). \n",
    "- The weight of the event is also morphed to the corresponding $c_6$-hypothesis when being filled into the histogram."
   ]
  },
  {
   "cell_type": "code",
   "execution_count": 3,
   "metadata": {},
   "outputs": [
    {
     "data": {
      "image/png": "[encoded data removed]",
      "text/plain": [
       "<Figure size 640x480 with 1 Axes>"
      ]
     },
     "metadata": {},
     "output_type": "display_data"
    }
   ],
   "source": [
    "c6_min = -10.\n",
    "c6_max = 10.\n",
    "c6_step = 5.\n",
    "c6_vals = np.arange(c6_min, c6_max+c6_step, c6_step)\n",
    "\n",
    "pratio_bins = np.linspace(0.745, 1.505, num=77)\n",
    "\n",
    "def plothist(entries, *, bins=None, weights=None, label=''):\n",
    "  hist, bin_edges = np.histogram(entries, bins=bins, \n",
    "                               weights=weights)\n",
    "  plt.step(bin_edges[:-1], hist, where='post', label=label)\n",
    "  return hist, bin_edges\n",
    "\n",
    "p_sm = ggzz.nu(per_event=True) / ggzz.nu()\n",
    "oo_sm, _ = plothist(p_sm / p_sm, bins=pratio_bins, \n",
    "                               weights=ggzz.nu(per_event=True), label='SM')\n",
    "\n",
    "oo_c6 = []\n",
    "p_c6 = ggzz.nu(c6_vals,per_event=True)/ggzz.nu(c6_vals)\n",
    "for i, c6_val in enumerate(c6_vals):\n",
    "  oo_vals, _ = plothist(p_c6[:, i] / p_sm, bins=pratio_bins, \n",
    "          weights=ggzz.nu(c6_val,per_event=True), label=f'$c_6 = {c6_val}$')\n",
    "\n",
    "  oo_c6.append(oo_vals)\n",
    "\n",
    "plt.legend()\n",
    "\n",
    "ax = plt.gca()\n",
    "\n",
    "ax.set_xlim([0.75, 1.5])\n",
    "ax.set_ylim([1e-4, 1e5])\n",
    "ax.set_yscale('log')\n",
    "ax.set_xlabel('$p(x_i | c_6) / p(x_i | c_6 = 0.0)$', loc='right')\n",
    "ax.set_ylabel('Number of events', loc='top')\n",
    "\n",
    "plt.text(0.80, 1e4, '$gg \\\\to ZZ \\\\to 4 \\\\ell$')\n",
    "plt.show()"
   ]
  },
  {
   "cell_type": "markdown",
   "metadata": {},
   "source": [
    "It can be observed that for the SM:\n",
    "\n",
    "- The parametrized-OO predicts a dirac-$\\delta$ distribution, since $p_{\\mathrm{SM}}(x_i) / p_{\\mathrm{SM}}(x_i) = 1$ for all $x_i$.\n",
    "\n",
    "Whereas for other $c_6$ hypotheses, two changes can occur: \n",
    "\n",
    "- The relative probability of a given event $x_i$ relative to other events can be de/enhanced compared to that of the SM depending on different polynomial dependence, $a_{\\{1,2,3,4\\},i}$, for the $i$-th event, which will result in $OO_{c_6} \\neq 1$.\n",
    "- The absolute weight of the event ${x_i}$ can be de/enhanced compared to the SM, predicting total number of events different from that of the SM."
   ]
  },
  {
   "cell_type": "markdown",
   "metadata": {},
   "source": [
    "## Sensitivity study using $OO_{c_6}$\n",
    "\n",
    "Now suppose that the experimenter observes a dataset corresponding to SM, $\\mathcal{D}_{\\mathrm{obs}}$, and must infer which value of $c_6$ is the most likely (which should of course be $0$). The maximum likelihood proceeds as the following:\n",
    "\n",
    "- (In this toy study, the observed SM dataset shall remain identical to the baseline simulated dataset)\n",
    "- For each value of $c_6$ being considered:\n",
    "  - The (morphed) dataset corresponding $c_6$-hypothesis, i.e. from $\\mathcal{D}(c_6)$, and thus its $OO_{c_6}$ distribution, is already known.\n",
    "  - For each event $x_i$ in $\\mathcal{D}_{\\mathrm{obs}}$, the density ratio is computed; by virtue of the first point, this will yield exactly the same values as that of $\\mathcal{D}(c_6)$.\n",
    "  - The event weight of $x_i$ in $\\mathcal{D}_{\\mathrm{obs}}$, however, is that of the SM.\n",
    "\n",
    "Then, one can evaluate the likelihood of the observed dataset given the expected $c_6$-hypothesis, $\\mathcal{L} ( \\mathcal{D}_{\\mathrm{obs}} | c_6 )$."
   ]
  },
  {
   "cell_type": "markdown",
   "metadata": {},
   "source": [
    "### Example: $c_6 = 0$ (SM)\n",
    "\n",
    "The above procedure will, by construction, yield distributions whose entries are identical between the observed and simulated datasets, except they are filled with differing event weights. The only scenario in which the latter is the same and thus yield identical distributions, is under the SM diract-$\\delta$ scenario."
   ]
  },
  {
   "cell_type": "code",
   "execution_count": 4,
   "metadata": {},
   "outputs": [
    {
     "name": "stdout",
     "output_type": "stream",
     "text": [
      "[   0.           0.           0.           0.           0.\n",
      "    0.           0.           0.           0.           0.\n",
      "    0.           0.           0.           0.           0.\n",
      "    0.           0.           0.           0.           0.\n",
      "    0.           0.           0.           0.           0.\n",
      " 3246.4333224    0.           0.           0.           0.\n",
      "    0.           0.           0.           0.           0.\n",
      "    0.           0.           0.           0.           0.\n",
      "    0.           0.           0.           0.           0.\n",
      "    0.           0.           0.           0.           0.\n",
      "    0.       ] [   0.           0.           0.           0.           0.\n",
      "    0.           0.           0.           0.           0.\n",
      "    0.           0.           0.           0.           0.\n",
      "    0.           0.           0.           0.           0.\n",
      "    0.           0.           0.           0.           0.\n",
      " 3246.4333224    0.           0.           0.           0.\n",
      "    0.           0.           0.           0.           0.\n",
      "    0.           0.           0.           0.           0.\n",
      "    0.           0.           0.           0.           0.\n",
      "    0.           0.           0.           0.           0.\n",
      "    0.       ]\n",
      "NLL =  4.961620319118083\n",
      "-log(Pois(3200|3200)) =  4.954417619261221\n"
     ]
    },
    {
     "data": {
      "image/png": "[encoded data removed]",
      "text/plain": [
       "<Figure size 640x480 with 1 Axes>"
      ]
     },
     "metadata": {},
     "output_type": "display_data"
    }
   ],
   "source": [
    "c6_val = 0.0\n",
    "\n",
    "nu_c6 = np.array(ggzz.nu(c6_val,per_event=True))\n",
    "nu_sm = np.array(ggzz.nu(per_event=True))\n",
    "p_c6 = nu_c6 / ggzz.nu(c6_val)\n",
    "p_sm = nu_sm / ggzz.nu()\n",
    "\n",
    "oo_exp, _ = np.histogram(p_c6 / p_sm, bins=pratio_bins, \n",
    "        weights=nu_c6)\n",
    "oo_obs, _ = np.histogram(p_sm / p_sm, bins=pratio_bins, \n",
    "        weights=nu_sm)\n",
    "\n",
    "plt.step(pratio_bins[:-1], oo_exp, where='post', label='$c_6 = 0.0$ (SM)')\n",
    "plt.step(pratio_bins[:-1], oo_obs, where='post', label='$c_6 = 0.0$ (observed)')\n",
    "\n",
    "plt.legend()\n",
    "\n",
    "ax = plt.gca()\n",
    "ax.set_yscale('log')\n",
    "ax.set_ylim(1e-2,1e4)\n",
    "\n",
    "print(oo_obs, oo_exp)\n",
    "nll = stat.nll(oo_obs, oo_exp)\n",
    "print('NLL = ', nll)\n",
    "print('-log(Pois(3200|3200)) = ', -np.log(poisson.pmf(3200,3200)))\n",
    "\n",
    "plt.show()"
   ]
  },
  {
   "cell_type": "markdown",
   "metadata": {},
   "source": [
    "Intuitively, this should always give the best likelihood, i.e. lowest $-\\log{\\mathcal{L}}$, since the observed and expected distributions are exactly the same.\n",
    "The obtained value can be straightforwardly understood as simply the value of $\\mathcal{L} = \\mathrm{Pois}( N_{\\mathrm{obs}} | \\nu_{\\mathrm{SM}})$, where $N_{\\mathrm{obs}} = \\nu_{\\mathrm{SM}} \\approx 3200$."
   ]
  },
  {
   "cell_type": "markdown",
   "metadata": {},
   "source": [
    "### Example: $c_6 = -10$\n",
    "\n",
    "Under a $c_6$-hypothesis that is different from that of the observed dataset however, the event weights will be different."
   ]
  },
  {
   "cell_type": "code",
   "execution_count": 5,
   "metadata": {},
   "outputs": [
    {
     "name": "stdout",
     "output_type": "stream",
     "text": [
      "NLL =  69.47505391307926\n"
     ]
    },
    {
     "data": {
      "image/png": "[encoded data removed]",
      "text/plain": [
       "<Figure size 640x480 with 1 Axes>"
      ]
     },
     "metadata": {},
     "output_type": "display_data"
    }
   ],
   "source": [
    "c6_val = -10.0\n",
    "\n",
    "nu_c6 = np.array(ggzz.nu(c6_val,per_event=True))\n",
    "nu_sm = np.array(ggzz.nu(per_event=True))\n",
    "p_c6 = nu_c6 / ggzz.nu(c6_val)\n",
    "p_sm = nu_sm / ggzz.nu()\n",
    "\n",
    "oo_exp, _ = np.histogram(p_c6 / p_sm, bins=pratio_bins, \n",
    "        weights=nu_c6)\n",
    "oo_obs, _ = np.histogram(p_c6 / p_sm, bins=pratio_bins, \n",
    "        weights=nu_sm)\n",
    "\n",
    "plt.step(pratio_bins[:-1], oo_exp, where='post', label='$c_6 = 10.0$ (SM)')\n",
    "plt.step(pratio_bins[:-1], oo_obs, where='post', label='$c_6 = 10.0$ (observed)')\n",
    "\n",
    "plt.legend()\n",
    "\n",
    "ax = plt.gca()\n",
    "ax.set_yscale('log')\n",
    "ax.set_ylim(1e-2,1e4)\n",
    "\n",
    "nll = stat.nll(oo_obs, oo_exp)\n",
    "print('NLL = ', nll)\n",
    "\n",
    "plt.show()"
   ]
  },
  {
   "cell_type": "markdown",
   "metadata": {},
   "source": [
    "Clearly, the compatibility between the observed and SM distributions are worse due to the different event weights."
   ]
  },
  {
   "cell_type": "code",
   "execution_count": 6,
   "metadata": {},
   "outputs": [
    {
     "data": {
      "image/png": "[encoded data removed]",
      "text/plain": [
       "<Figure size 640x480 with 1 Axes>"
      ]
     },
     "metadata": {},
     "output_type": "display_data"
    }
   ],
   "source": [
    "c6_min = -5.0\n",
    "c6_max = 5.0\n",
    "c6_nvals = 200\n",
    "c6_vals = np.linspace(c6_min, c6_max, c6_nvals+1)\n",
    "nll = np.ones_like(c6_vals)\n",
    "\n",
    "nu_c6 = np.array(ggzz.nu(c6_vals,per_event=True))\n",
    "nu_sm = np.array(ggzz.nu(per_event=True))\n",
    "p_c6 = nu_c6 / ggzz.nu(c6_vals)\n",
    "p_sm = nu_sm / ggzz.nu()\n",
    "\n",
    "for i, c6_val in enumerate(c6_vals):\n",
    "  oo_obs, _ = np.histogram(p_c6[:,i] / p_sm, bins=pratio_bins, \n",
    "                                weights=nu_sm)\n",
    "  oo_exp, _ = np.histogram(p_c6[:,i] / p_sm, bins=pratio_bins, \n",
    "                                weights=nu_c6[:, i])\n",
    "  nll[i] = stat.nll(oo_obs, oo_exp)\n",
    "\n",
    "imin = np.argmin(nll)\n",
    "nll_min = nll[imin]\n",
    "c6_at_nll_min = c6_vals[imin]\n",
    "\n",
    "plt.scatter(c6_vals, nll)\n",
    "plt.show()"
   ]
  },
  {
   "cell_type": "markdown",
   "metadata": {},
   "source": [
    "Now this seems quite strange:\n",
    "\n",
    "- The NLL value is pretty much flat in the vicinity of $0$.\n",
    "  - Reasonable as $c_6$ will not induce appreciable modification to the SM spectra.\n",
    "- Around $c_6 \\sim 0.5$, there is a sharp kink+rise in the NLL.\n",
    "- This is followed by discontinuities further out around $c_6 \\sim -2, -3, \\dots$.\n",
    "\n",
    "This is actually easily explained by the fact that as $|c_6|$ increases, events start to migrate out to $OO_{c_6} \\neq 1$ bins. And NLL of histograms with a different number of non-zero bins will be different from that of one, even if the observed and expected event yields sum up to the same total! i.e.\n",
    "\n",
    "$$-\\log(\\mathrm{Pois}(3200 | 3200)) = 4.954$$\n",
    "$$-\\log(\\mathrm{Pois}(1600|1600) \\mathrm{Pois(1600|1600)}) = 9.215$$\n",
    "\n",
    "(This specific discontinuity is being masked in the current binning, which centers around $c_6 = 0.0$ rather than at it.)\n",
    "\n",
    "Is this NLL curve sensible? Or is there (probably) something wrong in the methodology of implementing the MEM inference?"
   ]
  },
  {
   "cell_type": "code",
   "execution_count": 7,
   "metadata": {},
   "outputs": [
    {
     "name": "stdout",
     "output_type": "stream",
     "text": [
      "4.954417619261221\n",
      "9.215740141302376\n"
     ]
    }
   ],
   "source": [
    "print(-np.log(poisson.pmf(3200,3200)))\n",
    "print(-np.log(poisson.pmf(1600,1600) * poisson.pmf(1600,1600)))"
   ]
  },
  {
   "cell_type": "code",
   "execution_count": null,
   "metadata": {},
   "outputs": [],
   "source": []
  }
 ],
 "metadata": {
  "kernelspec": {
   "display_name": "Python 3",
   "language": "python",
   "name": "python3"
  },
  "language_info": {
   "codemirror_mode": {
    "name": "ipython",
    "version": 3
   },
   "file_extension": ".py",
   "mimetype": "text/x-python",
   "name": "python",
   "nbconvert_exporter": "python",
   "pygments_lexer": "ipython3",
   "version": "3.12.5"
  }
 },
 "nbformat": 4,
 "nbformat_minor": 2
}
