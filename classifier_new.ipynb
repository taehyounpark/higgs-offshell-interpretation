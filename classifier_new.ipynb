{
 "cells": [
  {
   "cell_type": "code",
   "execution_count": 1,
   "metadata": {},
   "outputs": [
    {
     "name": "stderr",
     "output_type": "stream",
     "text": [
      "2024-10-30 14:08:45.549937: I tensorflow/core/platform/cpu_feature_guard.cc:182] This TensorFlow binary is optimized to use available CPU instructions in performance-critical operations.\n",
      "To enable the following instructions: SSE4.1 SSE4.2 AVX AVX2 FMA, in other operations, rebuild TensorFlow with the appropriate compiler flags.\n"
     ]
    }
   ],
   "source": [
    "from hstar import process\n",
    "from hstar import trilinear\n",
    "from hstar import datacuts\n",
    "\n",
    "import numpy as np\n",
    "import matplotlib.pyplot as plt\n",
    "\n",
    "import tensorflow as tf\n",
    "from tensorflow.keras.layers import Dense, Activation\n",
    "from tensorflow.keras.utils import get_custom_objects\n",
    "from tensorflow.keras.optimizers import Nadam\n",
    "from tensorflow.keras import Model, backend"
   ]
  },
  {
   "cell_type": "code",
   "execution_count": 2,
   "metadata": {},
   "outputs": [
    {
     "name": "stdout",
     "output_type": "stream",
     "text": [
      "0        6.917263e-12\n",
      "1        4.352699e-10\n",
      "2        1.308438e-09\n",
      "3        1.289731e-09\n",
      "4        1.347206e-13\n",
      "             ...     \n",
      "99995    1.513117e-10\n",
      "99996    4.439589e-09\n",
      "99997    1.220276e-09\n",
      "99998    1.993417e-09\n",
      "99999    9.613625e-10\n",
      "Name: msq_sbi_sm, Length: 300000, dtype: float64\n",
      "0        7.188679e-14\n",
      "1        3.480814e-11\n",
      "2        1.946946e-11\n",
      "3        1.735510e-11\n",
      "4        6.937647e-15\n",
      "             ...     \n",
      "99995    3.494904e-11\n",
      "99996    2.558532e-11\n",
      "99997    3.352285e-11\n",
      "99998    1.282424e-10\n",
      "99999    7.091425e-11\n",
      "Name: msq_sig_sm, Length: 300000, dtype: float64\n",
      "0        7.326895e-12\n",
      "1        4.924589e-10\n",
      "2        1.370247e-09\n",
      "3        1.360140e-09\n",
      "4        1.353117e-13\n",
      "             ...     \n",
      "99995    1.554967e-10\n",
      "99996    4.562270e-09\n",
      "99997    1.308377e-09\n",
      "99998    2.165222e-09\n",
      "99999    1.049910e-09\n",
      "Name: msq_bkg_sm, Length: 300000, dtype: float64\n",
      "0       -4.813897e-13\n",
      "1       -9.161463e-11\n",
      "2       -8.107657e-11\n",
      "3       -8.776563e-11\n",
      "4       -1.676082e-14\n",
      "             ...     \n",
      "99995   -3.913398e-11\n",
      "99996   -1.482656e-10\n",
      "99997   -1.216241e-10\n",
      "99998   -3.000481e-10\n",
      "99999   -1.594621e-10\n",
      "Name: msq_int_sm, Length: 300000, dtype: float64\n"
     ]
    }
   ],
   "source": [
    "sample = process.Sample(weight='wt', \n",
    "    amplitude = process.Basis.SBI, components = {\n",
    "    process.Basis.SBI: 'msq_sbi_sm',\n",
    "    process.Basis.SIG: 'msq_sig_sm',\n",
    "    process.Basis.BKG: 'msq_bkg_sm',\n",
    "    process.Basis.INT: 'msq_int_sm'\n",
    "  })\n",
    "\n",
    "sample.open(csv = [\n",
    "  '../ggZZ4e_all.csv',\n",
    "  '../ggZZ4m_all.csv',\n",
    "  '../ggZZ2e2m_all.csv'\n",
    "  ], xs=[1.4783394, 0.47412769, 0.47412769], lumi=3000., k=1.83, nrows=100000\n",
    ")"
   ]
  },
  {
   "cell_type": "code",
   "execution_count": 3,
   "metadata": {},
   "outputs": [
    {
     "name": "stderr",
     "output_type": "stream",
     "text": [
      "/home/max/Uni/WS24/BachelorArbeit/higgs-offshell-interpretation/hstar/datacuts.py:242: RuntimeWarning: invalid value encountered in divide\n",
      "  phi = z1.dot(n12.cross(n34))/np.abs(z1.dot(n12.cross(n34)))*np.arccos(-n12.dot(n34))\n",
      "/home/max/Uni/WS24/BachelorArbeit/higgs-offshell-interpretation/hstar/datacuts.py:242: RuntimeWarning: invalid value encountered in arccos\n",
      "  phi = z1.dot(n12.cross(n34))/np.abs(z1.dot(n12.cross(n34)))*np.arccos(-n12.dot(n34))\n",
      "/home/max/Uni/WS24/BachelorArbeit/higgs-offshell-interpretation/hstar/datacuts.py:243: RuntimeWarning: invalid value encountered in arccos\n",
      "  illegal_inds = np.where(np.isnan(np.arccos(-n12.dot(n34))))[0]\n"
     ]
    },
    {
     "name": "stdout",
     "output_type": "stream",
     "text": [
      "[(-0.74512123, -0.66691146,  0.00484323)\n",
      " ( 0.90303732,  0.10368025,  0.41686209)\n",
      " ( 0.74217209, -0.66865606,  0.04560333) ...\n",
      " (-0.45940078, -0.68314908, -0.56767796)\n",
      " (-0.50510544, -0.80608794, -0.30836785)\n",
      " ( 0.77281874, -0.32284716,  0.54637066)]\n",
      "[(-0.74512123, -0.66691146,  0.00484323)\n",
      " ( 0.90303732,  0.10368025,  0.41686209)\n",
      " ( 0.74217209, -0.66865606,  0.04560333) ...\n",
      " (-0.45940078, -0.68314908, -0.56767796)\n",
      " (-0.50510544, -0.80608794, -0.30836785)\n",
      " ( 0.77281874, -0.32284716,  0.54637066)]\n",
      "[[ 0.96633291  0.9907067   0.58420921 ... -1.22078896 90.72999361\n",
      "  94.15907615]\n",
      " [-0.99871125  0.99720293  0.99234008 ...  0.28684574 90.57756562\n",
      "  93.74116556]\n",
      " [ 0.97583909  0.9823587   0.9677601  ... -2.73044289 93.07948836\n",
      "  90.44019454]\n",
      " ...\n",
      " [-0.14328388 -0.27324394  0.63449089 ... -0.94574492 90.30534808\n",
      "  88.61756136]\n",
      " [-0.9940422   0.98857818  0.99953491 ... -2.01282493 92.56397478\n",
      "  91.86507616]\n",
      " [ 0.83711788  0.83430643 -0.504289   ... -0.10824956 92.27354723\n",
      "  93.33937647]] (292254, 7)\n"
     ]
    }
   ],
   "source": [
    "evt = datacuts.Events4l(sample)\n",
    "\n",
    "kin_variables = evt.get_kinematics()\n",
    "\n",
    "where_nan = np.where(np.isnan(kin_variables))\n",
    "\n",
    "\n",
    "print(kin_variables, kin_variables.shape)"
   ]
  },
  {
   "cell_type": "code",
   "execution_count": 4,
   "metadata": {},
   "outputs": [],
   "source": [
    "c6_values = np.linspace(-10,10,21)"
   ]
  },
  {
   "cell_type": "code",
   "execution_count": 5,
   "metadata": {},
   "outputs": [],
   "source": [
    "c6_mod = trilinear.Modifier(c6_values = [-5,-1,0,1,5], c6_amplitudes = ['msq_sbi_c6_6', 'msq_sbi_c6_10', 'msq_sbi_c6_11', 'msq_sbi_c6_12', 'msq_sbi_c6_16'])\n",
    "(coeffs, c6_weights) = c6_mod.modify(sample=evt.sample, c6=c6_values, tensorize=False)"
   ]
  },
  {
   "cell_type": "code",
   "execution_count": 6,
   "metadata": {},
   "outputs": [
    {
     "name": "stdout",
     "output_type": "stream",
     "text": [
      "[[ 9.66332908e-01  9.90706697e-01  5.84209211e-01 ... -1.00000000e+01\n",
      "   1.00000000e+00  4.04819288e-06]\n",
      " [-9.98711253e-01  9.97202928e-01  9.92340082e-01 ... -1.00000000e+01\n",
      "   1.00000000e+00  7.53960947e-06]\n",
      " [ 9.75839094e-01  9.82358700e-01  9.67760103e-01 ... -1.00000000e+01\n",
      "   1.00000000e+00  1.77111083e-05]\n",
      " ...\n",
      " [-1.43283881e-01 -2.73243938e-01  6.34490892e-01 ...  1.00000000e+01\n",
      "   0.00000000e+00  2.65801633e-07]\n",
      " [-9.94042201e-01  9.88578178e-01  9.99534906e-01 ...  1.00000000e+01\n",
      "   0.00000000e+00  8.06941886e-06]\n",
      " [ 8.37117879e-01  8.34306435e-01 -5.04288996e-01 ...  1.00000000e+01\n",
      "   0.00000000e+00  1.63848877e-07]] (12274668, 10)\n"
     ]
    }
   ],
   "source": [
    "data = []\n",
    "\n",
    "for i in range(len(c6_values)):\n",
    "    c6 = c6_values[i]\n",
    "\n",
    "    # {kin}, c6, label, weight\n",
    "    data_part_sig = np.append(np.append(kin_variables, np.ones((kin_variables.shape[0],1))*c6, axis=1), np.ones((kin_variables.shape[0],1)), axis=1)\n",
    "    sig_weights = c6_weights.T[i][:,np.newaxis]\n",
    "    sig_weights *= 1/np.sum(sig_weights)\n",
    "\n",
    "    data_part_sig = np.append(data_part_sig, sig_weights, axis=1)\n",
    "\n",
    "    data_part_bkg = np.append(np.append(kin_variables, np.ones((kin_variables.shape[0],1))*c6, axis=1), np.zeros((kin_variables.shape[0],1)), axis=1)\n",
    "    bkg_weights = np.array(evt.df['wt'])[:,np.newaxis]\n",
    "    bkg_weights *= 1/np.sum(bkg_weights)\n",
    "\n",
    "    data_part_bkg = np.append(data_part_bkg, bkg_weights, axis=1)\n",
    "\n",
    "    data_part = np.append(data_part_sig, data_part_bkg, axis=0)\n",
    "\n",
    "    data.append(data_part)\n",
    "\n",
    "\n",
    "data = np.reshape(np.array(data), (np.array(data).shape[0]*np.array(data).shape[1], np.array(data).shape[2]))\n",
    "print(data, data.shape)\n"
   ]
  },
  {
   "cell_type": "code",
   "execution_count": 7,
   "metadata": {},
   "outputs": [],
   "source": [
    "\n",
    "def swish_activation(x, b=1):\n",
    "    return x*backend.sigmoid(b*x)\n",
    "\n",
    "get_custom_objects().update({'swish_activation': Activation(swish_activation)})\n",
    "\n",
    "\n",
    "class C6_4l_clf(Model):\n",
    "    def __init__(self):\n",
    "        super().__init__()\n",
    "\n",
    "        swish = Activation(swish_activation, name='Swish')\n",
    "\n",
    "        self.dense1 = Dense(1000, activation=swish, input_dim=8, kernel_initializer='he_normal')\n",
    "        self.dense2 = Dense(1000, activation=swish, kernel_initializer='he_normal')\n",
    "        self.dense3 = Dense(1000, activation=swish, kernel_initializer='he_normal')\n",
    "        self.dense4 = Dense(1000, activation=swish, kernel_initializer='he_normal')\n",
    "        self.dense5 = Dense(1000, activation=swish, kernel_initializer='he_normal')\n",
    "        self.out = Dense(1, activation='sigmoid')\n",
    "\n",
    "    def call(self, inputs):\n",
    "        x = self.dense1(inputs)\n",
    "        x = self.dense2(x)\n",
    "        x = self.dense3(x)\n",
    "        x = self.dense4(x)\n",
    "        x = self.dense5(x)\n",
    "        return self.out(x)"
   ]
  },
  {
   "cell_type": "code",
   "execution_count": 8,
   "metadata": {},
   "outputs": [
    {
     "name": "stderr",
     "output_type": "stream",
     "text": [
      "2024-10-30 14:09:01.443612: I tensorflow/core/common_runtime/process_util.cc:146] Creating new thread pool with default inter op setting: 2. Tune using inter_op_parallelism_threads for best performance.\n"
     ]
    }
   ],
   "source": [
    "model = C6_4l_clf()\n",
    "\n",
    "optimizer = Nadam(\n",
    "    learning_rate=0.001,\n",
    "    beta_1=0.9,\n",
    "    beta_2=0.999,\n",
    "    epsilon=1e-07\n",
    ")\n",
    "\n",
    "model.compile(optimizer=optimizer, loss='binary_crossentropy', metrics=['binary_accuracy'], weighted_metrics=['binary_accuracy'])"
   ]
  }
 ],
 "metadata": {
  "kernelspec": {
   "display_name": "bachelor-thesis",
   "language": "python",
   "name": "python3"
  },
  "language_info": {
   "codemirror_mode": {
    "name": "ipython",
    "version": 3
   },
   "file_extension": ".py",
   "mimetype": "text/x-python",
   "name": "python",
   "nbconvert_exporter": "python",
   "pygments_lexer": "ipython3",
   "version": "3.12.7"
  }
 },
 "nbformat": 4,
 "nbformat_minor": 2
}
