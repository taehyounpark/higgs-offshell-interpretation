{
 "cells": [
  {
   "cell_type": "markdown",
   "metadata": {},
   "source": [
    "# How to perform inference with a *parametrized* observable\n",
    "\n",
    "A parametrized observable is one whose definition changes based on the value of the parameter of interest being tested between the null and alternative hypotheses.\n",
    "One example is the matrix element-based discriminant,\n",
    "\n",
    "$$D_S(c_6) = \\log_{10} \\left( \\frac{|\\mathcal{M}_{gg\\to h^{\\ast}\\to ZZ}(c_6)|^2}{|\\mathcal{M}_{gg\\to ZZ}(c_6)|^2 + 0.1 \\cdot 1/2 \\cdot |\\mathcal{M}_{u\\bar{u}\\to ZZ}|^2} \\right),$$\n",
    "\n",
    "whose value depends on the $c_6$, the Higgs trilinear coupling modification.\n",
    "\n",
    "Given a dataset $\\mathcal{D}$, suppose that we want to infer the value of $c_6$ from observations $x_i, i = 1, \\dots, n$ in it.\n",
    "\n",
    "$$ \\mathcal{L} (\\mathcal{D} | c_6) = \\prod_{i} \\mathcal{P} (n_i(c_6) | \\nu_i(c_6)) $$"
   ]
  },
  {
   "cell_type": "code",
   "execution_count": 1,
   "metadata": {},
   "outputs": [],
   "source": [
    "import numpy as np\n",
    "import polars as pl\n",
    "import matplotlib.pyplot as plt\n",
    "import importlib\n",
    "\n",
    "from hstar import c6\n",
    "from inference import stat"
   ]
  },
  {
   "cell_type": "code",
   "execution_count": 3,
   "metadata": {},
   "outputs": [],
   "source": [
    "lumi = 3000.0\n",
    "\n",
    "# cross-section x k-factor [fb]\n",
    "ggzz2e2m = c6.Sample(k=1.83, xs=1.4783394, events=pl.read_csv('/raven/u/taepa/mcfm/MCFM-10.3/Bin/ggZZ2e2m_all/events.csv'))\n",
    "ggzz4e = c6.Sample(k=1.83, xs=0.47412769, events=pl.read_csv('/raven/u/taepa/mcfm/MCFM-10.3/Bin/ggZZ4e_all/events.csv'))\n",
    "ggzz4m = c6.Sample(k=1.83, xs=0.47412769, events=pl.read_csv('/raven/u/taepa/mcfm/MCFM-10.3/Bin/ggZZ4m_all/events.csv'))\n",
    "ggzz2e2m.normalize(lumi)\n",
    "ggzz4e.normalize(lumi)\n",
    "ggzz4m.normalize(lumi)\n",
    "\n",
    "# concatenate all events into one sample\n",
    "events = pl.concat([ggzz2e2m.events, ggzz4e.events, ggzz4m.events])\n",
    "sbi_ggzz = c6.Sample(k=1.83, xs=1.4783394+0.47412769+0.47412769, events = events)\n",
    "sbi_ggzz.sm_msq_key = 'msq_gg_sm'\n",
    "sbi_ggzz.c6_msq_map = {\n",
    "  -5 : 'msq_gg_c6_6',\n",
    "  -1 : 'msq_gg_c6_10',\n",
    "  0 : 'msq_gg_c6_11',\n",
    "  1 : 'msq_gg_c6_12',\n",
    "  5 : 'msq_gg_c6_16'\n",
    "}\n",
    "\n",
    "# signal-only gg->h*->ZZ sample\n",
    "# note: negative cross-section, because it doesn't matter!\n",
    "sbi_gghzz = c6.Sample(xs=-99, events=events)\n",
    "sbi_gghzz.sm_msq_key = 'msq_h_sm'\n",
    "sbi_gghzz.c6_msq_map = {\n",
    "    -5 : 'msq_h_c6_6',\n",
    "    -1 : 'msq_h_c6_10',\n",
    "    0 : 'msq_h_c6_11',\n",
    "    1 : 'msq_h_c6_12',\n",
    "    5 : 'msq_h_c6_16'\n",
    "  }\n",
    "\n",
    "sbi_uubzz = c6.Sample(xs=-99, events=events)\n",
    "sbi_uubzz.sm_msq_key = 'msq_uub'"
   ]
  },
  {
   "cell_type": "code",
   "execution_count": 4,
   "metadata": {},
   "outputs": [
    {
     "name": "stderr",
     "output_type": "stream",
     "text": [
      "/tmp/ipykernel_60830/124206740.py:5: RuntimeWarning: invalid value encountered in log10\n",
      "  sbi_ds_sm = np.log10(sbi_gghzz.msq() / (sbi_ggzz.msq() + 0.1*0.5*sbi_uubzz.msq()))\n",
      "/tmp/ipykernel_60830/124206740.py:11: RuntimeWarning: invalid value encountered in log10\n",
      "  sbi_ds_c6 = np.log10(sbi_msq_gghzz_c6 / (sbi_msq_ggzz_c6 + 0.1*0.5*(sbi_uubzz.msq())[:, np.newaxis]))\n"
     ]
    }
   ],
   "source": [
    "# c6 values\n",
    "c6_vals = np.array([10.0, 20.0, 30.0])\n",
    "\n",
    "# SM\n",
    "sbi_ds_sm = np.log10(sbi_gghzz.msq() / (sbi_ggzz.msq() + 0.1*0.5*sbi_uubzz.msq()))\n",
    "sbi_nu_sm = sbi_ggzz.nu(per_event=True)\n",
    "\n",
    "# ME\n",
    "sbi_msq_gghzz_c6 = sbi_gghzz.msq(c6_vals)\n",
    "sbi_msq_ggzz_c6 = sbi_ggzz.msq(c6_vals)\n",
    "sbi_ds_c6 = np.log10(sbi_msq_gghzz_c6 / (sbi_msq_ggzz_c6 + 0.1*0.5*(sbi_uubzz.msq())[:, np.newaxis]))\n",
    "\n",
    "# event weight\n",
    "sbi_nu_c6 = sbi_ggzz.nu(c6_vals,per_event=True)"
   ]
  },
  {
   "cell_type": "markdown",
   "metadata": {},
   "source": [
    "## $D_S$-based constraint on $c_6$\n",
    "\n",
    "Now the task is to minimize\n",
    "$$t_{c_6} = \\prod_{i} \\mathcal{P}( n_i(c_6) | \\nu_i(c_6))$$"
   ]
  },
  {
   "cell_type": "code",
   "execution_count": 7,
   "metadata": {},
   "outputs": [
    {
     "name": "stderr",
     "output_type": "stream",
     "text": [
      "/tmp/ipykernel_60830/1219862447.py:4: RuntimeWarning: invalid value encountered in log10\n",
      "  sbi_ds_sm = np.log10(sbi_gghzz.msq() / (sbi_ggzz.msq() + 0.1*0.5*sbi_uubzz.msq()))\n",
      "/tmp/ipykernel_60830/1219862447.py:8: RuntimeWarning: invalid value encountered in log10\n",
      "  sbi_ds_c6 = np.log10(sbi_msq_gghzz_c6 / (sbi_msq_ggzz_c6 + 0.1*0.5*(sbi_uubzz.msq())[:, np.newaxis]))\n"
     ]
    }
   ],
   "source": [
    "# define a finer grid for the scan\n",
    "c6_pts = np.linspace(-20.0, 20.0, 201)\n",
    "\n",
    "sbi_ds_sm = np.log10(sbi_gghzz.msq() / (sbi_ggzz.msq() + 0.1*0.5*sbi_uubzz.msq()))\n",
    "sbi_nu_sm = sbi_ggzz.nu(per_event=True)\n",
    "sbi_msq_gghzz_c6 = sbi_gghzz.msq(c6_pts)\n",
    "sbi_msq_ggzz_c6 = sbi_ggzz.msq(c6_pts)\n",
    "sbi_ds_c6 = np.log10(sbi_msq_gghzz_c6 / (sbi_msq_ggzz_c6 + 0.1*0.5*(sbi_uubzz.msq())[:, np.newaxis]))\n",
    "sbi_nu_c6 = sbi_ggzz.nu(c6_pts,per_event=True)\n",
    "\n",
    "ds_sm = sbi_ds_sm\n",
    "nu_sm = sbi_nu_sm\n",
    "ds_c6 = sbi_ds_c6\n",
    "nu_c6 = sbi_nu_c6"
   ]
  },
  {
   "cell_type": "code",
   "execution_count": 8,
   "metadata": {},
   "outputs": [
    {
     "data": {
      "image/png": "[encoded data removed]",
      "text/plain": [
       "<Figure size 640x480 with 1 Axes>"
      ]
     },
     "metadata": {},
     "output_type": "display_data"
    },
    {
     "name": "stdout",
     "output_type": "stream",
     "text": [
      "30.803232475196808\n"
     ]
    }
   ],
   "source": [
    "ds_bins = np.arange(-4.4,0.6,0.2)\n",
    "\n",
    "# compute the nll\n",
    "nll = np.zeros_like(c6_pts)\n",
    "for i, c6_val in enumerate(c6_pts):\n",
    "  h_ds_obs, _ = np.histogram(ds_c6[:, i], bins=ds_bins, weights=nu_sm)\n",
    "  h_ds_exp, _ = np.histogram(ds_c6[:, i], bins=ds_bins, weights=nu_c6[:,i])\n",
    "  nll[i] = stat.nll(h_ds_obs, h_ds_exp)\n",
    "nll = nll - np.min(nll)\n",
    "\n",
    "# find minimum\n",
    "imin = np.argmin(nll)\n",
    "nll_min = nll[imin]\n",
    "c6_at_nll_min = c6_pts[imin]\n",
    "\n",
    "# plot the scan + minimum\n",
    "plt.plot(c6_pts, nll)\n",
    "plt.scatter(c6_at_nll_min, nll_min, marker='o', color='red')\n",
    "plt.show()\n",
    "\n",
    "print(np.max(nll))"
   ]
  },
  {
   "cell_type": "code",
   "execution_count": 13,
   "metadata": {},
   "outputs": [
    {
     "data": {
      "image/png": "[encoded data removed]",
      "text/plain": [
       "<Figure size 640x480 with 1 Axes>"
      ]
     },
     "metadata": {},
     "output_type": "display_data"
    },
    {
     "name": "stdout",
     "output_type": "stream",
     "text": [
      "30.803232475196808\n"
     ]
    }
   ],
   "source": [
    "importlib.reload(stat)\n",
    "\n",
    "# compute the nll\n",
    "tc6 = np.zeros_like(c6_pts)\n",
    "for i, c6_val in enumerate(c6_pts):\n",
    "  h_ds_obs, _ = np.histogram(ds_c6[:,i], bins=ds_bins, weights=nu_sm)\n",
    "  h_ds_exp, _ = np.histogram(ds_c6[:,i], bins=ds_bins, weights=nu_c6[:,i])\n",
    "  tc6[i] = stat.nll(h_ds_obs, h_ds_exp) - stat.nll(h_ds_obs, h_ds_obs)\n",
    "\n",
    "# find minimum\n",
    "imin = np.argmin(tc6)\n",
    "tc6_min = tc6[imin]\n",
    "c6_at_nll_min = c6_pts[imin]\n",
    "\n",
    "# plot the scan + minimum\n",
    "plt.plot(c6_pts, tc6)\n",
    "plt.scatter(c6_at_nll_min, nll_min, marker='o', color='red')\n",
    "plt.show()\n",
    "\n",
    "print(np.max(nll))"
   ]
  },
  {
   "cell_type": "code",
   "execution_count": 14,
   "metadata": {},
   "outputs": [],
   "source": [
    "c6_pts = np.round(c6_pts, decimals = 1)\n",
    "df = pd.DataFrame({'c6' : c6_pts, 'nll' : nll})\n",
    "df.to_csv('c6_nll_ds.csv', index=False)"
   ]
  },
  {
   "cell_type": "markdown",
   "metadata": {},
   "source": []
  }
 ],
 "metadata": {
  "kernelspec": {
   "display_name": "ml",
   "language": "python",
   "name": "python3"
  },
  "language_info": {
   "codemirror_mode": {
    "name": "ipython",
    "version": 3
   },
   "file_extension": ".py",
   "mimetype": "text/x-python",
   "name": "python",
   "nbconvert_exporter": "python",
   "pygments_lexer": "ipython3",
   "version": "3.12.5"
  }
 },
 "nbformat": 4,
 "nbformat_minor": 2
}
