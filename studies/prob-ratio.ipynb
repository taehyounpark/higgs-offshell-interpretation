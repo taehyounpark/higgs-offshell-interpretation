{
 "cells": [
  {
   "cell_type": "markdown",
   "metadata": {},
   "source": [
    "# Probability ratio exercise\n",
    "\n",
    "The ratio of probability between an EFT and scenario cross $n$ events could be:\n",
    "- EFT: $1/n$ uniform distribution.\n",
    "- SM: $1/2^n$ geometry distribution."
   ]
  },
  {
   "cell_type": "code",
   "execution_count": 3,
   "metadata": {},
   "outputs": [
    {
     "name": "stdout",
     "output_type": "stream",
     "text": [
      "[  0.2   0.4   0.8   1.6   3.2   6.4  12.8  25.6  51.2 102.4]\n",
      "[-1.60943791 -0.91629073 -0.22314355  0.47000363  1.16315081  1.85629799\n",
      "  2.54944517  3.24259235  3.93573953  4.62888671]\n",
      "-30.19448800171307\n"
     ]
    }
   ],
   "source": [
    "import numpy as np\n",
    "\n",
    "# testing 10 events\n",
    "n = np.arange(1,11,1)\n",
    "\n",
    "psm = 1 / 2**n\n",
    "peft = np.ones_like(n) / len(n)\n",
    "\n",
    "print(peft/psm)\n",
    "print(np.log(peft / psm))\n",
    "print(-2 * np.sum(np.log(peft / psm)))"
   ]
  },
  {
   "cell_type": "markdown",
   "metadata": {},
   "source": []
  }
 ],
 "metadata": {
  "kernelspec": {
   "display_name": "Python 3 (ipykernel)",
   "language": "python",
   "name": "python3"
  },
  "language_info": {
   "codemirror_mode": {
    "name": "ipython",
    "version": 3
   },
   "file_extension": ".py",
   "mimetype": "text/x-python",
   "name": "python",
   "nbconvert_exporter": "python",
   "pygments_lexer": "ipython3",
   "version": "3.10.9"
  }
 },
 "nbformat": 4,
 "nbformat_minor": 2
}
