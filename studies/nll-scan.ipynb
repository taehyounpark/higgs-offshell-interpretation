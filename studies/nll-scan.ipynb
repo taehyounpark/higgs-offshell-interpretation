{
 "cells": [
  {
   "cell_type": "code",
   "execution_count": 17,
   "metadata": {},
   "outputs": [],
   "source": [
    "import numpy as np\n",
    "import pandas as pd\n",
    "import matplotlib.pyplot as plt\n",
    "from eft import sample, c6"
   ]
  },
  {
   "cell_type": "markdown",
   "metadata": {},
   "source": [
    "## Prepare samples\n",
    "- Total luminosity\n",
    "- Cross-section\n",
    "- Simulated events"
   ]
  },
  {
   "cell_type": "code",
   "execution_count": 25,
   "metadata": {},
   "outputs": [],
   "source": [
    "lumi = 300.0\n",
    "xsecs = {\n",
    "  'ggZZ_all' : 1.4787447\n",
    "}\n",
    "samples = {\n",
    "  'ggZZ_all' : '/u/taepa/hstar/data/samples/ggZZ_all/events.csv'\n",
    "}"
   ]
  },
  {
   "cell_type": "code",
   "execution_count": 26,
   "metadata": {},
   "outputs": [],
   "source": [
    "# load samples\n",
    "for process, filepath in samples.items():\n",
    "  events = pd.read_csv(filepath,nrows=10000)\n",
    "  samples[process] = sample.normalize(events, xsecs[process], lumi)"
   ]
  },
  {
   "cell_type": "markdown",
   "metadata": {},
   "source": [
    "## Sample morphing\n",
    "Perform a first-pass of the sample to obtain the EFT morphing coefficients for each event."
   ]
  },
  {
   "cell_type": "code",
   "execution_count": 21,
   "metadata": {},
   "outputs": [],
   "source": [
    "# testing with 100 events\n",
    "process = 'ggZZ_all'\n",
    "events = samples[process]"
   ]
  },
  {
   "cell_type": "markdown",
   "metadata": {},
   "source": [
    "## Likelihood construction\n",
    "The per-event likelihood (ratio) can be constructed as:\n",
    "$$\\begin{aligned}t_\\mu &= -2 \\log \\left(\\frac{\\mathcal{L}(\\mathcal{D} \\middle| \\mu)}{\\mathcal{L}(\\mathcal{D} \\middle| \\hat\\mu)}\\right)\\\\\n",
    "&= -2 N_{\\mathrm{data}}(\\log \\nu(\\mu) - \\log \\nu(\\hat\\mu)) + 2(\\nu(\\mu) - \\nu(\\hat\\mu)) -2 \\sum_{i}^{N_\\mathrm{data}} \\log\\left(\\frac{p(x_i | \\mu)}{p(x_i | \\hat\\mu)}\\right) \\end{aligned}$$\n"
   ]
  },
  {
   "cell_type": "code",
   "execution_count": 22,
   "metadata": {},
   "outputs": [],
   "source": [
    "import importlib\n",
    "importlib.reload(sample)\n",
    "importlib.reload(c6)\n",
    "\n",
    "c6_min = -5.0\n",
    "c6_max = 5.0\n",
    "c6_step = 0.25\n",
    "c6_values = np.arange(c6_min, c6_max+c6_step, c6_step)\n",
    "\n",
    "sm_yield = np.sum(events[sample.weight_key])\n",
    "c6_yields = c6.morph(events,c6_values,per_event=False)\n",
    "\n",
    "sm_prob = events[sample.weight_key] / sm_yield\n",
    "c6_probs = c6.morph(events, c6_values, per_event = True) / c6_yields"
   ]
  },
  {
   "cell_type": "code",
   "execution_count": 27,
   "metadata": {},
   "outputs": [
    {
     "name": "stderr",
     "output_type": "stream",
     "text": [
      "/tmp/ipykernel_1656/3909078287.py:3: FutureWarning: Support for multi-dimensional indexing (e.g. `obj[:, None]`) is deprecated and will be removed in a future version.  Convert to a numpy array before indexing instead.\n",
      "  nll_per_event = -2 * np.sum(np.log(c6_probs / sm_prob[:,np.newaxis]), axis=0)\n"
     ]
    }
   ],
   "source": [
    "nll_log_yield = -2 * (sm_yield) * (np.log(c6_yields) - np.log(sm_yield))\n",
    "nll_tot_yield = +2 * (c6_yields - sm_yield)\n",
    "nll_per_event = -2 * np.sum(np.log(c6_probs / sm_prob[:,np.newaxis]), axis=0)\n",
    "# nll = nll_log_yield + nll_tot_yield + nll_per_event\n",
    "nll = nll_log_yield + nll_tot_yield"
   ]
  },
  {
   "cell_type": "code",
   "execution_count": 28,
   "metadata": {},
   "outputs": [
    {
     "data": {
      "image/png": "[encoded data removed]",
      "text/plain": [
       "<Figure size 640x480 with 1 Axes>"
      ]
     },
     "metadata": {},
     "output_type": "display_data"
    }
   ],
   "source": [
    "plt.plot(c6_values, nll)\n",
    "plt.show()"
   ]
  }
 ],
 "metadata": {
  "kernelspec": {
   "display_name": "Python 3 (ipykernel)",
   "language": "python",
   "name": "python3"
  }
 },
 "nbformat": 4,
 "nbformat_minor": 2
}
