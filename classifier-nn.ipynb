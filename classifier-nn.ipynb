{
 "cells": [
  {
   "cell_type": "code",
   "execution_count": 17,
   "metadata": {},
   "outputs": [],
   "source": [
    "from nn.models import C6_4l_clf, swish_activation\n",
    "from nn import datasets\n",
    "from hstar import process, trilinear\n",
    "from hzz import zcandidate, angles\n",
    "\n",
    "import numpy as np\n",
    "import matplotlib.pyplot as plt\n",
    "\n",
    "import tensorflow as tf\n",
    "from tensorflow import keras"
   ]
  },
  {
   "cell_type": "code",
   "execution_count": 12,
   "metadata": {},
   "outputs": [
    {
     "name": "stdout",
     "output_type": "stream",
     "text": [
      "0          6.917264e-12\n",
      "1          4.352699e-10\n",
      "2          1.308438e-09\n",
      "3          1.289731e-09\n",
      "4          1.347206e-13\n",
      "               ...     \n",
      "1199995    4.149453e-09\n",
      "1199996    3.268040e-09\n",
      "1199997    5.843582e-09\n",
      "1199998    3.206703e-10\n",
      "1199999    7.858440e-10\n",
      "Name: msq_sbi_sm, Length: 3600000, dtype: float64\n",
      "0          7.188681e-14\n",
      "1          3.480814e-11\n",
      "2          1.946946e-11\n",
      "3          1.735510e-11\n",
      "4          6.937648e-15\n",
      "               ...     \n",
      "1199995    2.349468e-11\n",
      "1199996    1.260399e-10\n",
      "1199997    3.164702e-10\n",
      "1199998    9.147576e-13\n",
      "1199999    8.251521e-11\n",
      "Name: msq_sig_sm, Length: 3600000, dtype: float64\n",
      "0          7.326896e-12\n",
      "1          4.924589e-10\n",
      "2          1.370247e-09\n",
      "3          1.360140e-09\n",
      "4          1.353118e-13\n",
      "               ...     \n",
      "1199995    4.199106e-09\n",
      "1199996    3.261307e-09\n",
      "1199997    6.262901e-09\n",
      "1199998    3.239311e-10\n",
      "1199999    8.975898e-10\n",
      "Name: msq_bkg_sm, Length: 3600000, dtype: float64\n",
      "0         -4.813898e-13\n",
      "1         -9.161464e-11\n",
      "2         -8.107657e-11\n",
      "3         -8.776563e-11\n",
      "4         -1.676082e-14\n",
      "               ...     \n",
      "1199995   -7.314764e-11\n",
      "1199996   -1.193067e-10\n",
      "1199997   -7.357892e-10\n",
      "1199998   -4.175544e-12\n",
      "1199999   -1.942610e-10\n",
      "Name: msq_int_sm, Length: 3600000, dtype: float64\n",
      "(600000, 97)\n"
     ]
    },
    {
     "name": "stderr",
     "output_type": "stream",
     "text": [
      "/raven/u/griesemx/git/higgs-offshell-interpretation/hzz/angles.py:59: RuntimeWarning: invalid value encountered in divide\n",
      "  phi = z1.dot(n12.cross(n34))/np.abs(z1.dot(n12.cross(n34)))*np.arccos(-n12.dot(n34))\n",
      "/raven/u/griesemx/git/higgs-offshell-interpretation/hzz/angles.py:59: RuntimeWarning: invalid value encountered in arccos\n",
      "  phi = z1.dot(n12.cross(n34))/np.abs(z1.dot(n12.cross(n34)))*np.arccos(-n12.dot(n34))\n"
     ]
    },
    {
     "name": "stdout",
     "output_type": "stream",
     "text": [
      "(534352, 97)\n"
     ]
    }
   ],
   "source": [
    "sample = process.Sample(weight='wt', \n",
    "    amplitude = process.Basis.SBI, components = {\n",
    "    process.Basis.SBI: 'msq_sbi_sm',\n",
    "    process.Basis.SIG: 'msq_sig_sm',\n",
    "    process.Basis.BKG: 'msq_bkg_sm',\n",
    "    process.Basis.INT: 'msq_int_sm'\n",
    "  })\n",
    "\n",
    "sample.open(csv = [\n",
    "  '../ggZZ4e_all_new.csv',\n",
    "  '../ggZZ4m_all_new.csv',\n",
    "  '../ggZZ2e2m_all_new.csv'\n",
    "  ], xs=[1.4783394, 0.47412769, 0.47412769], lumi=3000., k=1.83, nrows=1200000\n",
    ")\n",
    "\n",
    "sample.events = sample.events.sample(frac=1).reset_index(drop=True).iloc[3000000:]\n",
    "\n",
    "print(sample.events.shape)\n",
    "\n",
    "zmasses = zcandidate.ZmassPairChooser(sample)\n",
    "leptons = zmasses.find_Z()\n",
    "\n",
    "print(sample.events.shape)\n",
    "\n",
    "kin_variables, filter_indices = angles.calculate(leptons.T[0], leptons.T[1], leptons.T[2], leptons.T[3])\n",
    "\n",
    "kin_variables = kin_variables[filter_indices]\n",
    "sample.events = sample.events.take(indices=filter_indices)\n",
    "\n",
    "print(sample.events.shape)\n",
    "\n",
    "c6_values = [10]\n",
    "\n",
    "c6_mod = trilinear.Modifier(c6_values = [-5,-1,0,1,5], c6_amplitudes = ['msq_sbi_c6_6', 'msq_sbi_c6_10', 'msq_sbi_c6_11', 'msq_sbi_c6_12', 'msq_sbi_c6_16'])\n",
    "c6_weights = c6_mod.modify(sample=sample, c6=c6_values)\n",
    "\n",
    "test_data = datasets.build_dataset_tf(x_arr = kin_variables,\n",
    "                                      param_values = c6_values,\n",
    "                                      signal_weights = c6_weights,\n",
    "                                      background_weights = tf.convert_to_tensor(sample.events['wt']), \n",
    "                                      normalization = 1)"
   ]
  },
  {
   "cell_type": "code",
   "execution_count": 13,
   "metadata": {},
   "outputs": [
    {
     "name": "stdout",
     "output_type": "stream",
     "text": [
      "tf.Tensor(\n",
      "[[-9.9956179e-01  9.9999332e-01  9.9923694e-01 ...  2.7778470e+02\n",
      "   1.0000000e+00  2.4997868e-07]\n",
      " [-7.9854858e-01  9.4311118e-01 -5.4875726e-01 ...  1.9444522e+02\n",
      "   1.0000000e+00  6.1149780e-07]\n",
      " [-8.9401394e-01  8.1174827e-01  9.8946059e-01 ...  2.0158017e+02\n",
      "   1.0000000e+00  1.0921680e-06]\n",
      " ...\n",
      " [-9.9960232e-01  9.9997342e-01  9.9958098e-01 ...  3.0570923e+02\n",
      "   0.0000000e+00  5.6284412e-06]\n",
      " [ 9.8543578e-01  9.1428941e-01 -9.6524501e-01 ...  2.8602902e+02\n",
      "   0.0000000e+00  7.3976656e-07]\n",
      " [ 8.8950205e-01  9.6081769e-01  9.7211587e-01 ...  2.8810672e+02\n",
      "   0.0000000e+00  2.0617863e-06]], shape=(1068704, 10), dtype=float32) (1068704, 10)\n"
     ]
    }
   ],
   "source": [
    "print(test_data, test_data.shape)"
   ]
  },
  {
   "cell_type": "code",
   "execution_count": 14,
   "metadata": {},
   "outputs": [
    {
     "name": "stderr",
     "output_type": "stream",
     "text": [
      "/raven/u/griesemx/git/bsc-thesis/venv/lib/python3.12/site-packages/keras/src/layers/core/dense.py:87: UserWarning: Do not pass an `input_shape`/`input_dim` argument to a layer. When using Sequential models, prefer using an `Input(shape)` object as the first layer in the model instead.\n",
      "  super().__init__(activity_regularizer=activity_regularizer, **kwargs)\n"
     ]
    }
   ],
   "source": [
    "model = keras.models.load_model('outputs_single/ckpt/checkpoint.model_1.keras', custom_objects={'C6_4l_clf_reduced_nonprm': C6_4l_clf, 'swish_activation': swish_activation})"
   ]
  },
  {
   "cell_type": "code",
   "execution_count": 15,
   "metadata": {},
   "outputs": [
    {
     "name": "stderr",
     "output_type": "stream",
     "text": [
      "WARNING: All log messages before absl::InitializeLog() is called are written to STDERR\n",
      "I0000 00:00:1731407791.155112  133891 service.cc:148] XLA service 0x148c9c2c8230 initialized for platform Host (this does not guarantee that XLA will be used). Devices:\n",
      "I0000 00:00:1731407791.164072  133891 service.cc:156]   StreamExecutor device (0): Host, Default Version\n",
      "2024-11-12 11:36:33.340890: I tensorflow/compiler/mlir/tensorflow/utils/dump_mlir_util.cc:268] disabling MLIR crash reproducer, set env var `MLIR_CRASH_REPRODUCER_DIRECTORY` to enable.\n",
      "I0000 00:00:1731407797.570461  133891 device_compiler.h:188] Compiled cluster using XLA!  This line is logged at most once for the lifetime of the process.\n"
     ]
    },
    {
     "name": "stdout",
     "output_type": "stream",
     "text": [
      "\u001b[1m16699/16699\u001b[0m \u001b[32m━━━━━━━━━━━━━━━━━━━━\u001b[0m\u001b[37m\u001b[0m \u001b[1m45s\u001b[0m 2ms/step\n",
      "tf.Tensor([[0.99969894 0.9996987  0.99969894 ... 0.99969894 0.99969894 0.99969894]], shape=(1, 534352), dtype=float32)\n",
      "tf.Tensor([[1.0195899  0.99777037 0.99966973 ... 1.0151569  1.0100434  1.0044048 ]], shape=(1, 534352), dtype=float32)\n"
     ]
    }
   ],
   "source": [
    "predictions = []\n",
    "real_ratios = []\n",
    "\n",
    "arr_len = test_data.shape[0]/len(c6_values)\n",
    "\n",
    "for i in range(len(c6_values)):\n",
    "    c6 = c6_values[i]\n",
    "    data = test_data[int(i*arr_len):int((i+0.5)*arr_len),:8]\n",
    "    pred = model.predict(data)\n",
    "    predictions.append(pred)\n",
    "\n",
    "    real_ratio = test_data[int(i*arr_len):int((i+0.5)*arr_len),9]/test_data[int((i+0.5)*arr_len):int((i+1)*arr_len),9]\n",
    "    real_ratios.append(real_ratio)\n",
    "\n",
    "predictions = tf.convert_to_tensor(predictions)\n",
    "\n",
    "ratios = tf.squeeze(predictions/(1-predictions), axis=2)\n",
    "\n",
    "print(ratios)\n",
    "\n",
    "real_ratios = tf.convert_to_tensor(real_ratios)\n",
    "\n",
    "print(real_ratios)"
   ]
  },
  {
   "cell_type": "code",
   "execution_count": 21,
   "metadata": {},
   "outputs": [
    {
     "data": {
      "text/plain": [
       "Text(0, 0.5, 'NN estimated ratio')"
      ]
     },
     "execution_count": 21,
     "metadata": {},
     "output_type": "execute_result"
    },
    {
     "data": {
      "image/png": "[encoded data removed]",
      "text/plain": [
       "<Figure size 640x480 with 1 Axes>"
      ]
     },
     "metadata": {},
     "output_type": "display_data"
    }
   ],
   "source": [
    "real = real_ratios.numpy()\n",
    "pred = ratios.numpy()\n",
    "\n",
    "plt.scatter(real, pred, s=10)\n",
    "plt.xlabel('True ratio')\n",
    "plt.ylabel('NN estimated ratio')"
   ]
  }
 ],
 "metadata": {
  "kernelspec": {
   "display_name": "venv",
   "language": "python",
   "name": "python3"
  },
  "language_info": {
   "codemirror_mode": {
    "name": "ipython",
    "version": 3
   },
   "file_extension": ".py",
   "mimetype": "text/x-python",
   "name": "python",
   "nbconvert_exporter": "python",
   "pygments_lexer": "ipython3",
   "version": "3.12.4"
  }
 },
 "nbformat": 4,
 "nbformat_minor": 2
}
