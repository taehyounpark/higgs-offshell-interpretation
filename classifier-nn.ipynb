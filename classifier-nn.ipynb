{
 "cells": [
  {
   "cell_type": "code",
   "execution_count": 2,
   "metadata": {},
   "outputs": [
    {
     "name": "stdout",
     "output_type": "stream",
     "text": [
      "/u/griesemx/ggZZ_work/venv/bin:/raven/u/griesemx/ggZZ_work/venv/bin:/raven/u/griesemx/.vscode-server-insiders/cli/servers/Insiders-8b7eb51f54d7e1492d9baf70454ab6547a4ff9df/server/bin/remote-cli:/mpcdf/soft/SLE_15/packages/x86_64/Modules/5.4.0/bin:/u/griesemx/bin:/usr/local/bin:/usr/bin:/bin:/usr/lib/mit/bin:/usr/lib/mit/sbin:/afs/ipp/amd64_sles15/bin:/mpcdf/soft/SLE_15/packages/x86_64/find-module/1.0/bin:/afs/ipp/amd64_sles15/bin\n"
     ]
    },
    {
     "ename": "ModuleNotFoundError",
     "evalue": "No module named 'tensorflow'",
     "output_type": "error",
     "traceback": [
      "\u001b[0;31m---------------------------------------------------------------------------\u001b[0m",
      "\u001b[0;31mModuleNotFoundError\u001b[0m                       Traceback (most recent call last)",
      "Cell \u001b[0;32mIn[2], line 4\u001b[0m\n\u001b[1;32m      1\u001b[0m \u001b[38;5;28;01mimport\u001b[39;00m \u001b[38;5;21;01mos\u001b[39;00m\n\u001b[1;32m      2\u001b[0m \u001b[38;5;28mprint\u001b[39m(os\u001b[38;5;241m.\u001b[39menviron[\u001b[38;5;124m'\u001b[39m\u001b[38;5;124mPATH\u001b[39m\u001b[38;5;124m'\u001b[39m])\n\u001b[0;32m----> 4\u001b[0m \u001b[38;5;28;01mimport\u001b[39;00m \u001b[38;5;21;01mtensorflow\u001b[39;00m \u001b[38;5;28;01mas\u001b[39;00m \u001b[38;5;21;01mtf\u001b[39;00m\n\u001b[1;32m      5\u001b[0m \u001b[38;5;28;01mfrom\u001b[39;00m \u001b[38;5;21;01mtensorflow\u001b[39;00m \u001b[38;5;28;01mimport\u001b[39;00m keras\n\u001b[1;32m      7\u001b[0m \u001b[38;5;28;01mfrom\u001b[39;00m \u001b[38;5;21;01mnn\u001b[39;00m\u001b[38;5;21;01m.\u001b[39;00m\u001b[38;5;21;01mmodels\u001b[39;00m \u001b[38;5;28;01mimport\u001b[39;00m C6_4l_clf_mini, swish_activation\n",
      "\u001b[0;31mModuleNotFoundError\u001b[0m: No module named 'tensorflow'"
     ]
    }
   ],
   "source": [
    "import os\n",
    "print(os.environ['PATH'])\n",
    "\n",
    "import tensorflow as tf\n",
    "from tensorflow import keras\n",
    "\n",
    "from nn.models import C6_4l_clf_mini, swish_activation\n",
    "from nn import datasets\n",
    "from hstar import process, trilinear\n",
    "from hzz import zcandidate, angles\n",
    "\n",
    "import numpy as np\n",
    "import matplotlib.pyplot as plt"
   ]
  },
  {
   "cell_type": "code",
   "execution_count": null,
   "metadata": {},
   "outputs": [],
   "source": [
    "GEN=2\n",
    "OUTPUT_DIR='outputs/single'\n",
    "SAMPLE_DIR='..'"
   ]
  },
  {
   "cell_type": "code",
   "execution_count": null,
   "metadata": {},
   "outputs": [],
   "source": [
    "sample = process.Sample(weight='wt', \n",
    "    amplitude = process.Basis.SBI, components = {\n",
    "    process.Basis.SBI: 'msq_sbi_sm',\n",
    "    process.Basis.SIG: 'msq_sig_sm',\n",
    "    process.Basis.BKG: 'msq_bkg_sm',\n",
    "    process.Basis.INT: 'msq_int_sm'\n",
    "  })\n",
    "\n",
    "sample.open(csv = [\n",
    "  SAMPLE_DIR + '/ggZZ2e2m_all_new.csv',\n",
    "  SAMPLE_DIR + '/ggZZ4e_all_new.csv',\n",
    "  SAMPLE_DIR + '/ggZZ4m_all_new.csv'\n",
    "  ], xs=[1.4783394, 0.47412769, 0.47412769], lumi=3000., k=1.83, nrows=[2500000,1250000,1250000]\n",
    ")\n",
    "\n",
    "sample.events = sample.events.sample(frac=1).reset_index(drop=True).iloc[4000000:]\n",
    "\n",
    "print(sample.events.shape)\n",
    "\n",
    "zmasses = zcandidate.ZmassPairChooser(sample)\n",
    "leptons = zmasses.find_Z()\n",
    "\n",
    "print(sample.events.shape)\n",
    "\n",
    "kin_variables = angles.calculate(leptons.T[0], leptons.T[1], leptons.T[2], leptons.T[3])\n",
    "\n",
    "print(sample.events.shape)\n",
    "\n",
    "c6_values = [20]\n",
    "\n",
    "c6_mod = trilinear.Modifier(c6_values = [-5,-1,0,1,5], c6_amplitudes = ['msq_sbi_c6_6', 'msq_sbi_c6_10', 'msq_sbi_c6_11', 'msq_sbi_c6_12', 'msq_sbi_c6_16'])\n",
    "c6_weights = c6_mod.modify(sample=sample, c6=c6_values)"
   ]
  },
  {
   "cell_type": "code",
   "execution_count": null,
   "metadata": {},
   "outputs": [],
   "source": [
    "test_data = datasets.build_dataset_tf(x_arr = kin_variables,\n",
    "                                      param_values = c6_values,\n",
    "                                      signal_weights = c6_weights,\n",
    "                                      background_weights = tf.convert_to_tensor(sample.events['wt']), \n",
    "                                      normalization = 1)\n",
    "\n",
    "test_data = tf.random.shuffle(test_data)\n",
    "\n",
    "print(test_data, test_data.shape)"
   ]
  },
  {
   "cell_type": "code",
   "execution_count": null,
   "metadata": {},
   "outputs": [],
   "source": [
    "print(test_data, test_data.shape)"
   ]
  },
  {
   "cell_type": "code",
   "execution_count": null,
   "metadata": {},
   "outputs": [],
   "source": [
    "model = keras.models.load_model('outputs/m4l/single/ckpt/checkpoint.model_1_m4l.keras', custom_objects={'C6_4l_clf_mini': C6_4l_clf_mini, 'swish_activation': swish_activation})"
   ]
  },
  {
   "cell_type": "code",
   "execution_count": null,
   "metadata": {},
   "outputs": [],
   "source": [
    "predictions = []\n",
    "real_ratios = []\n",
    "\n",
    "arr_len = test_data.shape[0]/len(c6_values)\n",
    "\n",
    "for i in range(len(c6_values)):\n",
    "    c6 = c6_values[i]\n",
    "    data = test_data[int(i*arr_len):int((i+0.5)*arr_len),0][:,np.newaxis]\n",
    "    pred = model.predict(data)\n",
    "    predictions.append(pred)\n",
    "\n",
    "    real_ratio = test_data[int(i*arr_len):int((i+0.5)*arr_len),2]/test_data[int((i+0.5)*arr_len):int((i+1)*arr_len),2]\n",
    "    real_ratios.append(real_ratio)\n",
    "\n",
    "predictions = tf.convert_to_tensor(predictions)\n",
    "\n",
    "ratios = tf.squeeze(predictions/(1-predictions), axis=2)\n",
    "\n",
    "print(ratios)\n",
    "\n",
    "real_ratios = tf.convert_to_tensor(real_ratios)\n",
    "\n",
    "print(real_ratios)"
   ]
  },
  {
   "cell_type": "code",
   "execution_count": null,
   "metadata": {},
   "outputs": [],
   "source": [
    "real = real_ratios.numpy()\n",
    "pred = ratios.numpy()\n",
    "\n",
    "lnspc = np.linspace(0.6,1.2)\n",
    "\n",
    "plt.figure(figsize=(6,6))\n",
    "\n",
    "plt.plot(lnspc, lnspc, color='dimgray', linestyle=(0,(5,10)), label='NN estimate = true')\n",
    "plt.scatter(real, pred, s=10, marker='x', label='Estimated data')\n",
    "plt.xlabel(u'True ratio   $P(x|c_6)/P_0(x)$')\n",
    "plt.ylabel(u'NN estimated   $P(x|c_6)/P_0(x)$')\n",
    "plt.xlim(0.0,2.0)\n",
    "plt.ylim(0.0,2.0)\n",
    "plt.legend()\n",
    "\n"
   ]
  },
  {
   "cell_type": "code",
   "execution_count": null,
   "metadata": {},
   "outputs": [],
   "source": [
    "hist_prm = ''\n",
    "\n",
    "with open(f'outputs/m4l/single/history/history_2_m4l.txt', 'r') as hist_file:\n",
    "    hist_prm = hist_file.readlines()\n",
    "\n",
    "hist_prm = [ np.array(el.replace('[','').replace(']','').replace(' ','').split(','), dtype=float) for el in hist_prm[0].split('][')]\n",
    "\n",
    "t_loss_prm = np.array(hist_prm[0])\n",
    "v_loss_prm = np.array(hist_prm[1])\n",
    "\n",
    "epochs = range(1,101)"
   ]
  },
  {
   "cell_type": "code",
   "execution_count": null,
   "metadata": {},
   "outputs": [],
   "source": [
    "fig = plt.figure(figsize=(8,6))\n",
    "\n",
    "#ax1.set_xticklabels([])\n",
    "\n",
    "plt.plot(epochs, t_loss_prm, 'b', label='Training loss')\n",
    "plt.xlabel('epochs []')\n",
    "plt.ylabel('loss []')\n",
    "#ax2.legend()\n",
    "\n",
    "plt.plot(epochs, v_loss_prm, 'r', label='Validation loss')\n",
    "#ax1.set_ylabel('loss []')\n",
    "plt.legend()\n",
    "\n",
    "fig.tight_layout()\n",
    "\n",
    "plt.show()"
   ]
  }
 ],
 "metadata": {
  "kernelspec": {
   "display_name": "venv",
   "language": "python",
   "name": "python3"
  },
  "language_info": {
   "codemirror_mode": {
    "name": "ipython",
    "version": 3
   },
   "file_extension": ".py",
   "mimetype": "text/x-python",
   "name": "python",
   "nbconvert_exporter": "python",
   "pygments_lexer": "ipython3",
   "version": "3.10.9"
  }
 },
 "nbformat": 4,
 "nbformat_minor": 2
}
